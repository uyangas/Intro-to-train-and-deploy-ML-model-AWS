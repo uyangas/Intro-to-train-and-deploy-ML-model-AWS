{
 "cells": [
  {
   "cell_type": "markdown",
   "id": "aec7a005-11f8-4510-a1c8-404da8f9c90b",
   "metadata": {},
   "source": [
    "# Alzheimer's disease identification from brain x-ray images\n",
    "\n",
    "MLUB Night - Oct 26, 2023"
   ]
  },
  {
   "cell_type": "markdown",
   "id": "83bf0b0b-d704-42c8-ad77-0fa804538ecd",
   "metadata": {},
   "source": [
    "## Data Processing"
   ]
  },
  {
   "cell_type": "markdown",
   "id": "5d06d914-8cb5-40c3-b90d-a76236b662c9",
   "metadata": {},
   "source": [
    "## 1. Install and import packages"
   ]
  },
  {
   "cell_type": "markdown",
   "id": "34dedc54-4fdd-405e-ac2f-44297bbb70c5",
   "metadata": {},
   "source": [
    "Install necessary packages"
   ]
  },
  {
   "cell_type": "code",
   "execution_count": 2,
   "id": "9ab06154-3cc0-46a8-83ae-d72c9bdb2670",
   "metadata": {
    "tags": []
   },
   "outputs": [],
   "source": [
    "%%capture\n",
    "!pip install kaggle\n",
    "!pip install sagemaker -U\n",
    "!pip install smdebug"
   ]
  },
  {
   "cell_type": "markdown",
   "id": "42da4740-a542-4b60-a3fa-e34fdf0d7442",
   "metadata": {},
   "source": [
    "Import packages"
   ]
  },
  {
   "cell_type": "code",
   "execution_count": 3,
   "id": "9e5cc71f-2cad-42d0-803e-d279ae0da0bd",
   "metadata": {
    "tags": []
   },
   "outputs": [],
   "source": [
    "import numpy as np\n",
    "import pandas as pd\n",
    "\n",
    "import os\n",
    "import json\n",
    "import random\n",
    "from PIL import Image\n",
    "import seaborn as sns\n",
    "import matplotlib.pyplot as plt"
   ]
  },
  {
   "cell_type": "markdown",
   "id": "3fe253e2-118b-4bc6-9383-9415e56fe6f3",
   "metadata": {},
   "source": [
    "## 2. Download the dataset"
   ]
  },
  {
   "cell_type": "markdown",
   "id": "e45ab551-9743-4dba-96a8-68fd1af3fefc",
   "metadata": {},
   "source": [
    "We will download the [dataset from Kaggle](https://www.kaggle.com/datasets/tourist55/alzheimers-dataset-4-class-of-images/data) and the download instruction is given [here](https://www.kaggle.com/discussions/general/74235).\n",
    "\n",
    "_Kaggle Account -> Settings -> API -> Create Kaggle token and download the .json file_"
   ]
  },
  {
   "cell_type": "markdown",
   "id": "86d9cfc4-42c5-430e-b299-ee5fe105e0f3",
   "metadata": {},
   "source": [
    "![image](Assets/Kaggle_token.png)"
   ]
  },
  {
   "cell_type": "code",
   "execution_count": 12,
   "id": "799326ad-9f84-4630-a543-3065578e5910",
   "metadata": {
    "tags": []
   },
   "outputs": [],
   "source": [
    "# create the .kaggle directory and an empty kaggle.json file\n",
    "!mkdir -p /root/Intro-to-train-and-deploy-ML-model-AWS/.kaggle\n",
    "!touch /root/Intro-to-train-and-deploy-ML-model-AWS/.kaggle/kaggle.json\n",
    "!chmod 600 /root/Intro-to-train-and-deploy-ML-model-AWS/.kaggle/kaggle.json"
   ]
  },
  {
   "cell_type": "code",
   "execution_count": 7,
   "id": "2c18ce34-3d32-4dd2-95e4-e012dc73792a",
   "metadata": {
    "tags": []
   },
   "outputs": [],
   "source": [
    "# Fill in your user name and key from creating the kaggle account and API token file\n",
    "from kaggle_config import kaggle_username, kaggle_key\n",
    "\n",
    "# Save API token the kaggle.json file\n",
    "with open(\"/root/.kaggle/kaggle.json\", \"w\") as f:\n",
    "    f.write(json.dumps({\"username\": kaggle_username, \"key\": kaggle_key}))"
   ]
  },
  {
   "cell_type": "code",
   "execution_count": 7,
   "id": "7a83fc95-5258-49f7-a89d-976245a25d43",
   "metadata": {
    "tags": []
   },
   "outputs": [
    {
     "name": "stdout",
     "output_type": "stream",
     "text": [
      "Downloading alzheimers-dataset-4-class-of-images.zip to /root/Intro-to-train-and-deploy-ML-model-AWS\n",
      " 79%|██████████████████████████████        | 27.0M/34.1M [00:00<00:00, 76.7MB/s]\n",
      "100%|██████████████████████████████████████| 34.1M/34.1M [00:00<00:00, 64.0MB/s]\n"
     ]
    }
   ],
   "source": [
    "!kaggle datasets download -d tourist55/alzheimers-dataset-4-class-of-images"
   ]
  },
  {
   "cell_type": "code",
   "execution_count": 15,
   "id": "68b8945b-c1a2-433d-a7d8-8561f3ce1260",
   "metadata": {
    "tags": []
   },
   "outputs": [],
   "source": [
    "# If you already downloaded it you can use the -o command to overwrite the file\n",
    "!unzip -o -qq alzheimers-dataset-4-class-of-images.zip"
   ]
  },
  {
   "cell_type": "code",
   "execution_count": 4,
   "id": "9957e379-106c-45db-a490-c7593cba93cc",
   "metadata": {
    "tags": []
   },
   "outputs": [
    {
     "name": "stdout",
     "output_type": "stream",
     "text": [
      "<<< test >>>\n",
      "'MildDemented': 180\n",
      "'VeryMildDemented': 448\n",
      "'NonDemented': 640\n",
      "'ModerateDemented': 12\n",
      "<<< valid >>>\n",
      "'MildDemented': 135\n",
      "'VeryMildDemented': 327\n",
      "'NonDemented': 469\n",
      "'ModerateDemented': 10\n",
      "<<< train >>>\n",
      "'MildDemented': 582\n",
      "'VeryMildDemented': 1465\n",
      "'NonDemented': 2091\n",
      "'ModerateDemented': 42\n"
     ]
    }
   ],
   "source": [
    "DATA_PATH='/root/Intro-to-train-and-deploy-ML-model-AWS/Alzheimer_s Dataset'\n",
    "\n",
    "data_distribution = {}\n",
    "\n",
    "for data_type in os.listdir(DATA_PATH):\n",
    "    \n",
    "    print(f\"<<< {data_type} >>>\")\n",
    "    data_dir = os.path.join(DATA_PATH, data_type)\n",
    "    \n",
    "    data_distribution[data_type] = {}\n",
    "    \n",
    "    for sub_type in os.listdir(data_dir):\n",
    "        sub_dir = os.path.join(data_dir, sub_type)\n",
    "        type_cnt = len(os.listdir(sub_dir))\n",
    "        \n",
    "        data_distribution[data_type][sub_type] = type_cnt\n",
    "        \n",
    "        print(f\"'{sub_type}': {type_cnt}\")"
   ]
  },
  {
   "cell_type": "code",
   "execution_count": 5,
   "id": "957d468a-9f22-4105-ad99-e178cb437e59",
   "metadata": {
    "tags": []
   },
   "outputs": [
    {
     "data": {
      "image/png": "[encoded data removed]",
      "text/plain": [
       "<Figure size 600x400 with 1 Axes>"
      ]
     },
     "metadata": {},
     "output_type": "display_data"
    }
   ],
   "source": [
    "x = np.arange(4)\n",
    "width = 0.25\n",
    "multiplier = 0\n",
    "\n",
    "fig, ax = plt.subplots(layout='constrained', figsize=(6,4))\n",
    "\n",
    "for data_type, labels in data_distribution.items():\n",
    "    offset = width * multiplier\n",
    "    chart = ax.bar(x + offset, labels.values(), width, label=data_type)\n",
    "    ax.bar_label(chart, padding=3)\n",
    "    multiplier += 1\n",
    "\n",
    "ax.set_title('Number of images')\n",
    "ax.set_xticks(x + width, labels.keys())\n",
    "ax.legend(loc='upper left', ncols=3)\n",
    "ax.set_ylim(0, 3000)\n",
    "\n",
    "plt.show()"
   ]
  },
  {
   "cell_type": "markdown",
   "id": "4c7d8f9d-6cda-4bbc-b00e-9f06f50f642d",
   "metadata": {
    "tags": []
   },
   "source": [
    "## 3. Data split"
   ]
  },
  {
   "cell_type": "markdown",
   "id": "e439938d-9b44-44f6-bcd8-eb1a310ada9f",
   "metadata": {
    "tags": []
   },
   "source": [
    "Show sample images"
   ]
  },
  {
   "cell_type": "code",
   "execution_count": null,
   "id": "1204d229-286f-4733-9af5-65bd573f6eff",
   "metadata": {
    "tags": []
   },
   "outputs": [],
   "source": [
    "plt.figure(figsize=(10, 10))\n",
    "fig, ax = plt.subplots(2,3)\n",
    "\n",
    "for e, data_type in enumerate(['train', 'test']):\n",
    "    for i in range(3):\n",
    "        data_dir = os.path.join(DATA_PATH, data_type)\n",
    "        sub_type = random.choice(os.listdir(data_dir))\n",
    "        sub_dir = os.path.join(data_dir, sub_type)\n",
    "        image_name = random.choice(os.listdir(sub_dir))\n",
    "        img_dir = os.path.join(sub_dir, image_name)\n",
    "        img = Image.open(img_dir)\n",
    "\n",
    "        ax[e, i].imshow(img, cmap = 'gray')\n",
    "        ax[e, i].set_title(f\"{data_type}: {sub_type},\\n size: {img.size}\", size=8)\n",
    "        ax[e, i].axis('off')\n",
    "        \n",
    "fig.suptitle(\"Sample dementia brain x-rays\")\n",
    "plt.show()\n",
    "None"
   ]
  },
  {
   "cell_type": "markdown",
   "id": "661ecf79-a094-44cf-a0bb-5f118db5c2c8",
   "metadata": {},
   "source": [
    "The dataset only contains train and test sets. Created validation set by randomly sampling `20% of the train data` and sampled 20% of each dementia severity as validation set."
   ]
  },
  {
   "cell_type": "code",
   "execution_count": 23,
   "id": "02af7f8d-b1c2-499d-b386-242425f38aa8",
   "metadata": {
    "tags": []
   },
   "outputs": [],
   "source": [
    "!mkdir /root/Intro-to-train-and-deploy-ML-model-AWS/\"Alzheimer_s Dataset\"/valid"
   ]
  },
  {
   "cell_type": "code",
   "execution_count": 24,
   "id": "5a49e484-819c-4305-b2e3-56cfd9f2db08",
   "metadata": {
    "tags": []
   },
   "outputs": [
    {
     "name": "stdout",
     "output_type": "stream",
     "text": [
      "Created:  /root/Intro-to-train-and-deploy-ML-model-AWS/Alzheimer_s Dataset/valid/MildDemented\n",
      "<<< MildDemented moved to valid : 135 >>>\n",
      "Created:  /root/Intro-to-train-and-deploy-ML-model-AWS/Alzheimer_s Dataset/valid/VeryMildDemented\n",
      "<<< VeryMildDemented moved to valid : 327 >>>\n",
      "Created:  /root/Intro-to-train-and-deploy-ML-model-AWS/Alzheimer_s Dataset/valid/NonDemented\n",
      "<<< NonDemented moved to valid : 469 >>>\n",
      "Created:  /root/Intro-to-train-and-deploy-ML-model-AWS/Alzheimer_s Dataset/valid/ModerateDemented\n",
      "<<< ModerateDemented moved to valid : 10 >>>\n"
     ]
    }
   ],
   "source": [
    "from_dir = os.path.join(DATA_PATH, 'train')\n",
    "to_dir = os.path.join(DATA_PATH, 'valid')\n",
    "\n",
    "for sub_type in os.listdir(from_dir):\n",
    "    from_sub_dir = os.path.join(from_dir, sub_type)\n",
    "    to_sub_dir = os.path.join(to_dir, sub_type)\n",
    "\n",
    "    os.mkdir(to_sub_dir)\n",
    "    print(\"Created: \", to_sub_dir)\n",
    "    \n",
    "    valid_samples = np.random.choice(os.listdir(from_sub_dir), int(0.2*len(os.listdir(from_sub_dir))))\n",
    "    \n",
    "    for file in valid_samples:\n",
    "        rm_dir = os.path.join(from_sub_dir, file)\n",
    "        cp_dir = os.path.join(to_sub_dir, file)\n",
    "        \n",
    "        try:\n",
    "            os.rename(rm_dir, cp_dir)\n",
    "        except:\n",
    "            pass\n",
    "        \n",
    "    print(f\"<<< {sub_type} moved to valid : {len(os.listdir(to_sub_dir))} >>>\")"
   ]
  },
  {
   "cell_type": "markdown",
   "id": "d2f91325-60f3-43ae-be5e-6702eb902b15",
   "metadata": {
    "tags": []
   },
   "source": [
    "## 4. Upload the data to S3"
   ]
  },
  {
   "cell_type": "markdown",
   "id": "c4fa9169-b7fb-4070-95fd-316a628e0bb0",
   "metadata": {},
   "source": [
    "1. Create the bucket in S3\n",
    "2. Get the bucket name\n",
    "3. Push the data to S3"
   ]
  },
  {
   "cell_type": "code",
   "execution_count": 5,
   "id": "c12117f6-5b5a-448d-8cfb-b63191467715",
   "metadata": {
    "tags": []
   },
   "outputs": [],
   "source": [
    "BUCKET = \"mlub-dementia-demo\""
   ]
  },
  {
   "cell_type": "code",
   "execution_count": 6,
   "id": "b46e7b09-31e9-4d9f-a788-500ede7c8101",
   "metadata": {},
   "outputs": [],
   "source": [
    "!aws s3 --quiet sync '/root/Intro-to-train-and-deploy-ML-model-AWS/Alzheimer_s Dataset' s3://{BUCKET}/\"Alzheimer_s Dataset\""
   ]
  },
  {
   "cell_type": "code",
   "execution_count": 5,
   "id": "47bb4ff5-42fa-423d-ae44-77bc5a91902c",
   "metadata": {
    "tags": []
   },
   "outputs": [],
   "source": [
    "# !aws s3 --quiet sync '/root/Intro-to-train-and-deploy-ML-model-AWS/Alzheimer_s Dataset/valid/ModerateDemented' s3://{BUCKET}/\"Test Dataset\" "
   ]
  },
  {
   "cell_type": "markdown",
   "id": "03d8df69-7fb1-46ac-9992-b7c971a6e910",
   "metadata": {},
   "source": [
    "The end of the notebook"
   ]
  }
 ],
 "metadata": {
  "availableInstances": [
   {
    "_defaultOrder": 0,
    "_isFastLaunch": true,
    "category": "General purpose",
    "gpuNum": 0,
    "hideHardwareSpecs": false,
    "memoryGiB": 4,
    "name": "ml.t3.medium",
    "vcpuNum": 2
   },
   {
    "_defaultOrder": 1,
    "_isFastLaunch": false,
    "category": "General purpose",
    "gpuNum": 0,
    "hideHardwareSpecs": false,
    "memoryGiB": 8,
    "name": "ml.t3.large",
    "vcpuNum": 2
   },
   {
    "_defaultOrder": 2,
    "_isFastLaunch": false,
    "category": "General purpose",
    "gpuNum": 0,
    "hideHardwareSpecs": false,
    "memoryGiB": 16,
    "name": "ml.t3.xlarge",
    "vcpuNum": 4
   },
   {
    "_defaultOrder": 3,
    "_isFastLaunch": false,
    "category": "General purpose",
    "gpuNum": 0,
    "hideHardwareSpecs": false,
    "memoryGiB": 32,
    "name": "ml.t3.2xlarge",
    "vcpuNum": 8
   },
   {
    "_defaultOrder": 4,
    "_isFastLaunch": true,
    "category": "General purpose",
    "gpuNum": 0,
    "hideHardwareSpecs": false,
    "memoryGiB": 8,
    "name": "ml.m5.large",
    "vcpuNum": 2
   },
   {
    "_defaultOrder": 5,
    "_isFastLaunch": false,
    "category": "General purpose",
    "gpuNum": 0,
    "hideHardwareSpecs": false,
    "memoryGiB": 16,
    "name": "ml.m5.xlarge",
    "vcpuNum": 4
   },
   {
    "_defaultOrder": 6,
    "_isFastLaunch": false,
    "category": "General purpose",
    "gpuNum": 0,
    "hideHardwareSpecs": false,
    "memoryGiB": 32,
    "name": "ml.m5.2xlarge",
    "vcpuNum": 8
   },
   {
    "_defaultOrder": 7,
    "_isFastLaunch": false,
    "category": "General purpose",
    "gpuNum": 0,
    "hideHardwareSpecs": false,
    "memoryGiB": 64,
    "name": "ml.m5.4xlarge",
    "vcpuNum": 16
   },
   {
    "_defaultOrder": 8,
    "_isFastLaunch": false,
    "category": "General purpose",
    "gpuNum": 0,
    "hideHardwareSpecs": false,
    "memoryGiB": 128,
    "name": "ml.m5.8xlarge",
    "vcpuNum": 32
   },
   {
    "_defaultOrder": 9,
    "_isFastLaunch": false,
    "category": "General purpose",
    "gpuNum": 0,
    "hideHardwareSpecs": false,
    "memoryGiB": 192,
    "name": "ml.m5.12xlarge",
    "vcpuNum": 48
   },
   {
    "_defaultOrder": 10,
    "_isFastLaunch": false,
    "category": "General purpose",
    "gpuNum": 0,
    "hideHardwareSpecs": false,
    "memoryGiB": 256,
    "name": "ml.m5.16xlarge",
    "vcpuNum": 64
   },
   {
    "_defaultOrder": 11,
    "_isFastLaunch": false,
    "category": "General purpose",
    "gpuNum": 0,
    "hideHardwareSpecs": false,
    "memoryGiB": 384,
    "name": "ml.m5.24xlarge",
    "vcpuNum": 96
   },
   {
    "_defaultOrder": 12,
    "_isFastLaunch": false,
    "category": "General purpose",
    "gpuNum": 0,
    "hideHardwareSpecs": false,
    "memoryGiB": 8,
    "name": "ml.m5d.large",
    "vcpuNum": 2
   },
   {
    "_defaultOrder": 13,
    "_isFastLaunch": false,
    "category": "General purpose",
    "gpuNum": 0,
    "hideHardwareSpecs": false,
    "memoryGiB": 16,
    "name": "ml.m5d.xlarge",
    "vcpuNum": 4
   },
   {
    "_defaultOrder": 14,
    "_isFastLaunch": false,
    "category": "General purpose",
    "gpuNum": 0,
    "hideHardwareSpecs": false,
    "memoryGiB": 32,
    "name": "ml.m5d.2xlarge",
    "vcpuNum": 8
   },
   {
    "_defaultOrder": 15,
    "_isFastLaunch": false,
    "category": "General purpose",
    "gpuNum": 0,
    "hideHardwareSpecs": false,
    "memoryGiB": 64,
    "name": "ml.m5d.4xlarge",
    "vcpuNum": 16
   },
   {
    "_defaultOrder": 16,
    "_isFastLaunch": false,
    "category": "General purpose",
    "gpuNum": 0,
    "hideHardwareSpecs": false,
    "memoryGiB": 128,
    "name": "ml.m5d.8xlarge",
    "vcpuNum": 32
   },
   {
    "_defaultOrder": 17,
    "_isFastLaunch": false,
    "category": "General purpose",
    "gpuNum": 0,
    "hideHardwareSpecs": false,
    "memoryGiB": 192,
    "name": "ml.m5d.12xlarge",
    "vcpuNum": 48
   },
   {
    "_defaultOrder": 18,
    "_isFastLaunch": false,
    "category": "General purpose",
    "gpuNum": 0,
    "hideHardwareSpecs": false,
    "memoryGiB": 256,
    "name": "ml.m5d.16xlarge",
    "vcpuNum": 64
   },
   {
    "_defaultOrder": 19,
    "_isFastLaunch": false,
    "category": "General purpose",
    "gpuNum": 0,
    "hideHardwareSpecs": false,
    "memoryGiB": 384,
    "name": "ml.m5d.24xlarge",
    "vcpuNum": 96
   },
   {
    "_defaultOrder": 20,
    "_isFastLaunch": false,
    "category": "General purpose",
    "gpuNum": 0,
    "hideHardwareSpecs": true,
    "memoryGiB": 0,
    "name": "ml.geospatial.interactive",
    "supportedImageNames": [
     "sagemaker-geospatial-v1-0"
    ],
    "vcpuNum": 0
   },
   {
    "_defaultOrder": 21,
    "_isFastLaunch": true,
    "category": "Compute optimized",
    "gpuNum": 0,
    "hideHardwareSpecs": false,
    "memoryGiB": 4,
    "name": "ml.c5.large",
    "vcpuNum": 2
   },
   {
    "_defaultOrder": 22,
    "_isFastLaunch": false,
    "category": "Compute optimized",
    "gpuNum": 0,
    "hideHardwareSpecs": false,
    "memoryGiB": 8,
    "name": "ml.c5.xlarge",
    "vcpuNum": 4
   },
   {
    "_defaultOrder": 23,
    "_isFastLaunch": false,
    "category": "Compute optimized",
    "gpuNum": 0,
    "hideHardwareSpecs": false,
    "memoryGiB": 16,
    "name": "ml.c5.2xlarge",
    "vcpuNum": 8
   },
   {
    "_defaultOrder": 24,
    "_isFastLaunch": false,
    "category": "Compute optimized",
    "gpuNum": 0,
    "hideHardwareSpecs": false,
    "memoryGiB": 32,
    "name": "ml.c5.4xlarge",
    "vcpuNum": 16
   },
   {
    "_defaultOrder": 25,
    "_isFastLaunch": false,
    "category": "Compute optimized",
    "gpuNum": 0,
    "hideHardwareSpecs": false,
    "memoryGiB": 72,
    "name": "ml.c5.9xlarge",
    "vcpuNum": 36
   },
   {
    "_defaultOrder": 26,
    "_isFastLaunch": false,
    "category": "Compute optimized",
    "gpuNum": 0,
    "hideHardwareSpecs": false,
    "memoryGiB": 96,
    "name": "ml.c5.12xlarge",
    "vcpuNum": 48
   },
   {
    "_defaultOrder": 27,
    "_isFastLaunch": false,
    "category": "Compute optimized",
    "gpuNum": 0,
    "hideHardwareSpecs": false,
    "memoryGiB": 144,
    "name": "ml.c5.18xlarge",
    "vcpuNum": 72
   },
   {
    "_defaultOrder": 28,
    "_isFastLaunch": false,
    "category": "Compute optimized",
    "gpuNum": 0,
    "hideHardwareSpecs": false,
    "memoryGiB": 192,
    "name": "ml.c5.24xlarge",
    "vcpuNum": 96
   },
   {
    "_defaultOrder": 29,
    "_isFastLaunch": true,
    "category": "Accelerated computing",
    "gpuNum": 1,
    "hideHardwareSpecs": false,
    "memoryGiB": 16,
    "name": "ml.g4dn.xlarge",
    "vcpuNum": 4
   },
   {
    "_defaultOrder": 30,
    "_isFastLaunch": false,
    "category": "Accelerated computing",
    "gpuNum": 1,
    "hideHardwareSpecs": false,
    "memoryGiB": 32,
    "name": "ml.g4dn.2xlarge",
    "vcpuNum": 8
   },
   {
    "_defaultOrder": 31,
    "_isFastLaunch": false,
    "category": "Accelerated computing",
    "gpuNum": 1,
    "hideHardwareSpecs": false,
    "memoryGiB": 64,
    "name": "ml.g4dn.4xlarge",
    "vcpuNum": 16
   },
   {
    "_defaultOrder": 32,
    "_isFastLaunch": false,
    "category": "Accelerated computing",
    "gpuNum": 1,
    "hideHardwareSpecs": false,
    "memoryGiB": 128,
    "name": "ml.g4dn.8xlarge",
    "vcpuNum": 32
   },
   {
    "_defaultOrder": 33,
    "_isFastLaunch": false,
    "category": "Accelerated computing",
    "gpuNum": 4,
    "hideHardwareSpecs": false,
    "memoryGiB": 192,
    "name": "ml.g4dn.12xlarge",
    "vcpuNum": 48
   },
   {
    "_defaultOrder": 34,
    "_isFastLaunch": false,
    "category": "Accelerated computing",
    "gpuNum": 1,
    "hideHardwareSpecs": false,
    "memoryGiB": 256,
    "name": "ml.g4dn.16xlarge",
    "vcpuNum": 64
   },
   {
    "_defaultOrder": 35,
    "_isFastLaunch": false,
    "category": "Accelerated computing",
    "gpuNum": 1,
    "hideHardwareSpecs": false,
    "memoryGiB": 61,
    "name": "ml.p3.2xlarge",
    "vcpuNum": 8
   },
   {
    "_defaultOrder": 36,
    "_isFastLaunch": false,
    "category": "Accelerated computing",
    "gpuNum": 4,
    "hideHardwareSpecs": false,
    "memoryGiB": 244,
    "name": "ml.p3.8xlarge",
    "vcpuNum": 32
   },
   {
    "_defaultOrder": 37,
    "_isFastLaunch": false,
    "category": "Accelerated computing",
    "gpuNum": 8,
    "hideHardwareSpecs": false,
    "memoryGiB": 488,
    "name": "ml.p3.16xlarge",
    "vcpuNum": 64
   },
   {
    "_defaultOrder": 38,
    "_isFastLaunch": false,
    "category": "Accelerated computing",
    "gpuNum": 8,
    "hideHardwareSpecs": false,
    "memoryGiB": 768,
    "name": "ml.p3dn.24xlarge",
    "vcpuNum": 96
   },
   {
    "_defaultOrder": 39,
    "_isFastLaunch": false,
    "category": "Memory Optimized",
    "gpuNum": 0,
    "hideHardwareSpecs": false,
    "memoryGiB": 16,
    "name": "ml.r5.large",
    "vcpuNum": 2
   },
   {
    "_defaultOrder": 40,
    "_isFastLaunch": false,
    "category": "Memory Optimized",
    "gpuNum": 0,
    "hideHardwareSpecs": false,
    "memoryGiB": 32,
    "name": "ml.r5.xlarge",
    "vcpuNum": 4
   },
   {
    "_defaultOrder": 41,
    "_isFastLaunch": false,
    "category": "Memory Optimized",
    "gpuNum": 0,
    "hideHardwareSpecs": false,
    "memoryGiB": 64,
    "name": "ml.r5.2xlarge",
    "vcpuNum": 8
   },
   {
    "_defaultOrder": 42,
    "_isFastLaunch": false,
    "category": "Memory Optimized",
    "gpuNum": 0,
    "hideHardwareSpecs": false,
    "memoryGiB": 128,
    "name": "ml.r5.4xlarge",
    "vcpuNum": 16
   },
   {
    "_defaultOrder": 43,
    "_isFastLaunch": false,
    "category": "Memory Optimized",
    "gpuNum": 0,
    "hideHardwareSpecs": false,
    "memoryGiB": 256,
    "name": "ml.r5.8xlarge",
    "vcpuNum": 32
   },
   {
    "_defaultOrder": 44,
    "_isFastLaunch": false,
    "category": "Memory Optimized",
    "gpuNum": 0,
    "hideHardwareSpecs": false,
    "memoryGiB": 384,
    "name": "ml.r5.12xlarge",
    "vcpuNum": 48
   },
   {
    "_defaultOrder": 45,
    "_isFastLaunch": false,
    "category": "Memory Optimized",
    "gpuNum": 0,
    "hideHardwareSpecs": false,
    "memoryGiB": 512,
    "name": "ml.r5.16xlarge",
    "vcpuNum": 64
   },
   {
    "_defaultOrder": 46,
    "_isFastLaunch": false,
    "category": "Memory Optimized",
    "gpuNum": 0,
    "hideHardwareSpecs": false,
    "memoryGiB": 768,
    "name": "ml.r5.24xlarge",
    "vcpuNum": 96
   },
   {
    "_defaultOrder": 47,
    "_isFastLaunch": false,
    "category": "Accelerated computing",
    "gpuNum": 1,
    "hideHardwareSpecs": false,
    "memoryGiB": 16,
    "name": "ml.g5.xlarge",
    "vcpuNum": 4
   },
   {
    "_defaultOrder": 48,
    "_isFastLaunch": false,
    "category": "Accelerated computing",
    "gpuNum": 1,
    "hideHardwareSpecs": false,
    "memoryGiB": 32,
    "name": "ml.g5.2xlarge",
    "vcpuNum": 8
   },
   {
    "_defaultOrder": 49,
    "_isFastLaunch": false,
    "category": "Accelerated computing",
    "gpuNum": 1,
    "hideHardwareSpecs": false,
    "memoryGiB": 64,
    "name": "ml.g5.4xlarge",
    "vcpuNum": 16
   },
   {
    "_defaultOrder": 50,
    "_isFastLaunch": false,
    "category": "Accelerated computing",
    "gpuNum": 1,
    "hideHardwareSpecs": false,
    "memoryGiB": 128,
    "name": "ml.g5.8xlarge",
    "vcpuNum": 32
   },
   {
    "_defaultOrder": 51,
    "_isFastLaunch": false,
    "category": "Accelerated computing",
    "gpuNum": 1,
    "hideHardwareSpecs": false,
    "memoryGiB": 256,
    "name": "ml.g5.16xlarge",
    "vcpuNum": 64
   },
   {
    "_defaultOrder": 52,
    "_isFastLaunch": false,
    "category": "Accelerated computing",
    "gpuNum": 4,
    "hideHardwareSpecs": false,
    "memoryGiB": 192,
    "name": "ml.g5.12xlarge",
    "vcpuNum": 48
   },
   {
    "_defaultOrder": 53,
    "_isFastLaunch": false,
    "category": "Accelerated computing",
    "gpuNum": 4,
    "hideHardwareSpecs": false,
    "memoryGiB": 384,
    "name": "ml.g5.24xlarge",
    "vcpuNum": 96
   },
   {
    "_defaultOrder": 54,
    "_isFastLaunch": false,
    "category": "Accelerated computing",
    "gpuNum": 8,
    "hideHardwareSpecs": false,
    "memoryGiB": 768,
    "name": "ml.g5.48xlarge",
    "vcpuNum": 192
   },
   {
    "_defaultOrder": 55,
    "_isFastLaunch": false,
    "category": "Accelerated computing",
    "gpuNum": 8,
    "hideHardwareSpecs": false,
    "memoryGiB": 1152,
    "name": "ml.p4d.24xlarge",
    "vcpuNum": 96
   },
   {
    "_defaultOrder": 56,
    "_isFastLaunch": false,
    "category": "Accelerated computing",
    "gpuNum": 8,
    "hideHardwareSpecs": false,
    "memoryGiB": 1152,
    "name": "ml.p4de.24xlarge",
    "vcpuNum": 96
   }
  ],
  "instance_type": "ml.t3.medium",
  "kernelspec": {
   "display_name": "Python 3 (PyTorch 1.10 Python 3.8 CPU Optimized)",
   "language": "python",
   "name": "python3__SAGEMAKER_INTERNAL__arn:aws:sagemaker:us-east-1:081325390199:image/pytorch-1.10-cpu-py38"
  },
  "language_info": {
   "codemirror_mode": {
    "name": "ipython",
    "version": 3
   },
   "file_extension": ".py",
   "mimetype": "text/x-python",
   "name": "python",
   "nbconvert_exporter": "python",
   "pygments_lexer": "ipython3",
   "version": "3.8.10"
  }
 },
 "nbformat": 4,
 "nbformat_minor": 5
}
