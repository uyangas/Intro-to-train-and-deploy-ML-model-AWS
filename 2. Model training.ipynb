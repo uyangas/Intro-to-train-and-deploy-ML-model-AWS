{
 "cells": [
  {
   "cell_type": "markdown",
   "id": "bf86242a-c0cd-4016-a8f5-c3a7de342f31",
   "metadata": {},
   "source": [
    "# Alzheimer's disease identification from brain x-ray images\n",
    "\n",
    "MLUB Night - Oct 26, 2023"
   ]
  },
  {
   "cell_type": "markdown",
   "id": "62e27afe-b878-467b-a832-11cc7ae1b601",
   "metadata": {},
   "source": [
    "## Model Training"
   ]
  },
  {
   "cell_type": "markdown",
   "id": "0e983448-76eb-449a-a63d-83021af5c49a",
   "metadata": {
    "tags": []
   },
   "source": [
    "## 1. Install and import packages"
   ]
  },
  {
   "cell_type": "code",
   "execution_count": 60,
   "id": "988ce8bb-f30d-48cf-9a2f-202089a045fb",
   "metadata": {
    "collapsed": true,
    "jupyter": {
     "outputs_hidden": true
    },
    "tags": []
   },
   "outputs": [
    {
     "name": "stdout",
     "output_type": "stream",
     "text": [
      "Requirement already satisfied: sagemaker in /opt/conda/lib/python3.8/site-packages (2.194.0)\n",
      "Collecting sagemaker\n",
      "  Downloading sagemaker-2.195.0.tar.gz (915 kB)\n",
      "\u001b[2K     \u001b[90m━━━━━━━━━━━━━━━━━━━━━━━━━━━━━━━━━━━━━━━\u001b[0m \u001b[32m915.6/915.6 KB\u001b[0m \u001b[31m5.7 MB/s\u001b[0m eta \u001b[36m0:00:00\u001b[0m00:01\u001b[0m\n",
      "\u001b[?25h  Preparing metadata (setup.py) ... \u001b[?25ldone\n",
      "\u001b[?25hRequirement already satisfied: attrs<24,>=23.1.0 in /opt/conda/lib/python3.8/site-packages (from sagemaker) (23.1.0)\n",
      "Requirement already satisfied: boto3<2.0,>=1.26.131 in /opt/conda/lib/python3.8/site-packages (from sagemaker) (1.28.70)\n",
      "Requirement already satisfied: cloudpickle==2.2.1 in /opt/conda/lib/python3.8/site-packages (from sagemaker) (2.2.1)\n",
      "Requirement already satisfied: google-pasta in /opt/conda/lib/python3.8/site-packages (from sagemaker) (0.2.0)\n",
      "Requirement already satisfied: numpy<2.0,>=1.9.0 in /opt/conda/lib/python3.8/site-packages (from sagemaker) (1.22.2)\n",
      "Requirement already satisfied: protobuf<5.0,>=3.12 in /opt/conda/lib/python3.8/site-packages (from sagemaker) (3.19.4)\n",
      "Requirement already satisfied: smdebug_rulesconfig==1.0.1 in /opt/conda/lib/python3.8/site-packages (from sagemaker) (1.0.1)\n",
      "Requirement already satisfied: importlib-metadata<7.0,>=1.4.0 in /opt/conda/lib/python3.8/site-packages (from sagemaker) (4.11.2)\n",
      "Requirement already satisfied: packaging>=20.0 in /opt/conda/lib/python3.8/site-packages (from sagemaker) (21.3)\n",
      "Requirement already satisfied: pandas in /opt/conda/lib/python3.8/site-packages (from sagemaker) (1.4.1)\n",
      "Requirement already satisfied: pathos in /opt/conda/lib/python3.8/site-packages (from sagemaker) (0.2.8)\n",
      "Requirement already satisfied: schema in /opt/conda/lib/python3.8/site-packages (from sagemaker) (0.7.5)\n",
      "Requirement already satisfied: PyYAML~=6.0 in /opt/conda/lib/python3.8/site-packages (from sagemaker) (6.0.1)\n",
      "Requirement already satisfied: jsonschema in /opt/conda/lib/python3.8/site-packages (from sagemaker) (4.19.1)\n",
      "Requirement already satisfied: platformdirs in /opt/conda/lib/python3.8/site-packages (from sagemaker) (2.5.1)\n",
      "Requirement already satisfied: tblib==1.7.0 in /opt/conda/lib/python3.8/site-packages (from sagemaker) (1.7.0)\n",
      "Requirement already satisfied: botocore<1.32.0,>=1.31.70 in /opt/conda/lib/python3.8/site-packages (from boto3<2.0,>=1.26.131->sagemaker) (1.31.70)\n",
      "Requirement already satisfied: s3transfer<0.8.0,>=0.7.0 in /opt/conda/lib/python3.8/site-packages (from boto3<2.0,>=1.26.131->sagemaker) (0.7.0)\n",
      "Requirement already satisfied: jmespath<2.0.0,>=0.7.1 in /opt/conda/lib/python3.8/site-packages (from boto3<2.0,>=1.26.131->sagemaker) (0.10.0)\n",
      "Requirement already satisfied: zipp>=0.5 in /opt/conda/lib/python3.8/site-packages (from importlib-metadata<7.0,>=1.4.0->sagemaker) (3.7.0)\n",
      "Requirement already satisfied: pyparsing!=3.0.5,>=2.0.2 in /opt/conda/lib/python3.8/site-packages (from packaging>=20.0->sagemaker) (3.0.7)\n",
      "Requirement already satisfied: six in /opt/conda/lib/python3.8/site-packages (from google-pasta->sagemaker) (1.16.0)\n",
      "Requirement already satisfied: referencing>=0.28.4 in /opt/conda/lib/python3.8/site-packages (from jsonschema->sagemaker) (0.30.2)\n",
      "Requirement already satisfied: rpds-py>=0.7.1 in /opt/conda/lib/python3.8/site-packages (from jsonschema->sagemaker) (0.10.6)\n",
      "Requirement already satisfied: jsonschema-specifications>=2023.03.6 in /opt/conda/lib/python3.8/site-packages (from jsonschema->sagemaker) (2023.7.1)\n",
      "Requirement already satisfied: importlib-resources>=1.4.0 in /opt/conda/lib/python3.8/site-packages (from jsonschema->sagemaker) (6.1.0)\n",
      "Requirement already satisfied: pkgutil-resolve-name>=1.3.10 in /opt/conda/lib/python3.8/site-packages (from jsonschema->sagemaker) (1.3.10)\n",
      "Requirement already satisfied: python-dateutil>=2.8.1 in /opt/conda/lib/python3.8/site-packages (from pandas->sagemaker) (2.8.2)\n",
      "Requirement already satisfied: pytz>=2020.1 in /opt/conda/lib/python3.8/site-packages (from pandas->sagemaker) (2021.3)\n",
      "Requirement already satisfied: pox>=0.3.0 in /opt/conda/lib/python3.8/site-packages (from pathos->sagemaker) (0.3.0)\n",
      "Requirement already satisfied: multiprocess>=0.70.12 in /opt/conda/lib/python3.8/site-packages (from pathos->sagemaker) (0.70.12.2)\n",
      "Requirement already satisfied: ppft>=1.6.6.4 in /opt/conda/lib/python3.8/site-packages (from pathos->sagemaker) (1.6.6.4)\n",
      "Requirement already satisfied: dill>=0.3.4 in /opt/conda/lib/python3.8/site-packages (from pathos->sagemaker) (0.3.4)\n",
      "Requirement already satisfied: contextlib2>=0.5.5 in /opt/conda/lib/python3.8/site-packages (from schema->sagemaker) (21.6.0)\n",
      "Requirement already satisfied: urllib3<1.27,>=1.25.4 in /opt/conda/lib/python3.8/site-packages (from botocore<1.32.0,>=1.31.70->boto3<2.0,>=1.26.131->sagemaker) (1.26.8)\n",
      "Building wheels for collected packages: sagemaker\n",
      "  Building wheel for sagemaker (setup.py) ... \u001b[?25ldone\n",
      "\u001b[?25h  Created wheel for sagemaker: filename=sagemaker-2.195.0-py2.py3-none-any.whl size=1221693 sha256=4139976dbff76e8b9a576c9ae0a01a2681af092396dd1e69b7c3aa48ea8abec5\n",
      "  Stored in directory: /root/.cache/pip/wheels/4b/c5/f7/ee31f3a6c29736120026c2dfca7535c93c72edfe8e30ed205f\n",
      "Successfully built sagemaker\n",
      "Installing collected packages: sagemaker\n",
      "  Attempting uninstall: sagemaker\n",
      "    Found existing installation: sagemaker 2.194.0\n",
      "    Uninstalling sagemaker-2.194.0:\n",
      "      Successfully uninstalled sagemaker-2.194.0\n",
      "Successfully installed sagemaker-2.195.0\n",
      "\u001b[33mWARNING: Running pip as the 'root' user can result in broken permissions and conflicting behaviour with the system package manager. It is recommended to use a virtual environment instead: https://pip.pypa.io/warnings/venv\u001b[0m\u001b[33m\n",
      "\u001b[0mRequirement already satisfied: smdebug in /opt/conda/lib/python3.8/site-packages/smdebug-1.0.13b20220304-py3.8.egg (1.0.13b20220304)\n",
      "Requirement already satisfied: protobuf>=3.6.0 in /opt/conda/lib/python3.8/site-packages (from smdebug) (3.19.4)\n",
      "Requirement already satisfied: numpy>=1.16.0 in /opt/conda/lib/python3.8/site-packages (from smdebug) (1.22.2)\n",
      "Requirement already satisfied: packaging in /opt/conda/lib/python3.8/site-packages (from smdebug) (21.3)\n",
      "Requirement already satisfied: boto3>=1.10.32 in /opt/conda/lib/python3.8/site-packages (from smdebug) (1.28.70)\n",
      "Requirement already satisfied: pyinstrument==3.4.2 in /opt/conda/lib/python3.8/site-packages/pyinstrument-3.4.2-py3.8.egg (from smdebug) (3.4.2)\n",
      "Requirement already satisfied: pyinstrument-cext>=0.2.2 in /opt/conda/lib/python3.8/site-packages/pyinstrument_cext-0.2.4-py3.8-linux-x86_64.egg (from pyinstrument==3.4.2->smdebug) (0.2.4)\n",
      "Requirement already satisfied: botocore<1.32.0,>=1.31.70 in /opt/conda/lib/python3.8/site-packages (from boto3>=1.10.32->smdebug) (1.31.70)\n",
      "Requirement already satisfied: jmespath<2.0.0,>=0.7.1 in /opt/conda/lib/python3.8/site-packages (from boto3>=1.10.32->smdebug) (0.10.0)\n",
      "Requirement already satisfied: s3transfer<0.8.0,>=0.7.0 in /opt/conda/lib/python3.8/site-packages (from boto3>=1.10.32->smdebug) (0.7.0)\n",
      "Requirement already satisfied: pyparsing!=3.0.5,>=2.0.2 in /opt/conda/lib/python3.8/site-packages (from packaging->smdebug) (3.0.7)\n",
      "Requirement already satisfied: urllib3<1.27,>=1.25.4 in /opt/conda/lib/python3.8/site-packages (from botocore<1.32.0,>=1.31.70->boto3>=1.10.32->smdebug) (1.26.8)\n",
      "Requirement already satisfied: python-dateutil<3.0.0,>=2.1 in /opt/conda/lib/python3.8/site-packages (from botocore<1.32.0,>=1.31.70->boto3>=1.10.32->smdebug) (2.8.2)\n",
      "Requirement already satisfied: six>=1.5 in /opt/conda/lib/python3.8/site-packages (from python-dateutil<3.0.0,>=2.1->botocore<1.32.0,>=1.31.70->boto3>=1.10.32->smdebug) (1.16.0)\n",
      "\u001b[33mWARNING: Running pip as the 'root' user can result in broken permissions and conflicting behaviour with the system package manager. It is recommended to use a virtual environment instead: https://pip.pypa.io/warnings/venv\u001b[0m\u001b[33m\n",
      "\u001b[0m"
     ]
    }
   ],
   "source": [
    "# %%capture\n",
    "!pip install sagemaker -U\n",
    "!pip install smdebug"
   ]
  },
  {
   "cell_type": "code",
   "execution_count": 220,
   "id": "0aa8dfb0-6cf8-4951-a7d7-5e2987234f21",
   "metadata": {},
   "outputs": [],
   "source": [
    "import sagemaker\n",
    "\n",
    "from sagemaker.pytorch import PyTorch\n",
    "from sagemaker.pytorch import PyTorchModel\n",
    "\n",
    "import torchvision.transforms as transforms\n",
    "from torchvision.datasets import ImageFolder\n",
    "import torch\n",
    "\n",
    "from sagemaker.debugger import (\n",
    "    Rule,\n",
    "    DebuggerHookConfig,\n",
    "    rule_configs,\n",
    "    ProfilerRule,\n",
    "    CollectionConfig,\n",
    "    ProfilerConfig,\n",
    "    FrameworkProfile\n",
    ")\n",
    "\n",
    "import smdebug\n",
    "from smdebug.trials import create_trial\n",
    "from smdebug.core.modes import ModeKeys\n",
    "\n",
    "from sklearn.metrics import confusion_matrix, accuracy_score\n",
    "\n",
    "import numpy as np\n",
    "import os\n",
    "from PIL import Image\n",
    "import random\n",
    "import matplotlib.pyplot as plt\n",
    "from mpl_toolkits.axes_grid1 import host_subplot"
   ]
  },
  {
   "cell_type": "markdown",
   "id": "1a6fe877-5e1c-4c7d-ab44-c3dca983dd5a",
   "metadata": {},
   "source": [
    "## 2. Setup"
   ]
  },
  {
   "cell_type": "code",
   "execution_count": 190,
   "id": "2f0ef23a-f080-4497-b2ca-27b3d4c4e33f",
   "metadata": {
    "tags": []
   },
   "outputs": [],
   "source": [
    "BUCKET = \"mlub-dementia-demo\""
   ]
  },
  {
   "cell_type": "code",
   "execution_count": 191,
   "id": "aefd71e1-6943-414d-967c-fc615c46f2bc",
   "metadata": {},
   "outputs": [
    {
     "name": "stdout",
     "output_type": "stream",
     "text": [
      "sagemaker.config INFO - Not applying SDK defaults from location: /etc/xdg/sagemaker/config.yaml\n",
      "sagemaker.config INFO - Not applying SDK defaults from location: /root/.config/sagemaker/config.yaml\n"
     ]
    }
   ],
   "source": [
    "role = sagemaker.get_execution_role()\n",
    "\n",
    "inputs = f\"s3://{BUCKET}/Alzheimer_s Dataset/\""
   ]
  },
  {
   "cell_type": "code",
   "execution_count": 192,
   "id": "3f3e1185-638f-4ff5-800d-5891711b568f",
   "metadata": {},
   "outputs": [
    {
     "data": {
      "text/plain": [
       "'arn:aws:iam::655329371831:role/service-role/AmazonSageMaker-ExecutionRole-20230227T103736'"
      ]
     },
     "execution_count": 192,
     "metadata": {},
     "output_type": "execute_result"
    }
   ],
   "source": [
    "role"
   ]
  },
  {
   "cell_type": "markdown",
   "id": "912e128e-1d9c-4234-9dd1-25fe1bff6ef7",
   "metadata": {},
   "source": [
    "## 3. Train the model"
   ]
  },
  {
   "cell_type": "code",
   "execution_count": 193,
   "id": "f7649e72-8111-421a-96e6-ca36666c8dc3",
   "metadata": {},
   "outputs": [
    {
     "data": {
      "text/plain": [
       "{'lr': '0.0021', 'epochs': '5'}"
      ]
     },
     "execution_count": 193,
     "metadata": {},
     "output_type": "execute_result"
    }
   ],
   "source": [
    "hyperparameters = {\n",
    "    \"lr\": '0.0021',\n",
    "    \"epochs\":\"5\"\n",
    "}\n",
    "hyperparameters"
   ]
  },
  {
   "cell_type": "code",
   "execution_count": 194,
   "id": "485cf04e-e16c-4355-9c5d-ea84cbd77b11",
   "metadata": {
    "tags": []
   },
   "outputs": [],
   "source": [
    "output_path = f\"s3://{BUCKET}/outputs/\""
   ]
  },
  {
   "cell_type": "code",
   "execution_count": 97,
   "id": "35e5ec95-032b-4cbd-ae79-82024e822949",
   "metadata": {
    "tags": []
   },
   "outputs": [
    {
     "name": "stderr",
     "output_type": "stream",
     "text": [
      "WARNING:sagemaker.deprecations:Framework profiling will be deprecated from tensorflow 2.12 and pytorch 2.0 in sagemaker>=2.\n",
      "See: https://sagemaker.readthedocs.io/en/stable/v2.html for details.\n"
     ]
    }
   ],
   "source": [
    "rules = [\n",
    "    Rule.sagemaker(rule_configs.vanishing_gradient()),\n",
    "    Rule.sagemaker(rule_configs.poor_weight_initialization()),\n",
    "    ProfilerRule.sagemaker(rule_configs.ProfilerReport()),\n",
    "]\n",
    "\n",
    "profiler_config = ProfilerConfig(system_monitor_interval_millis=500, \n",
    "                                                       framework_profile_params = FrameworkProfile(num_steps=10))\n",
    "\n",
    "collection_config = [CollectionConfig(name=\"CrossEntropyLoss_output_0\", \n",
    "                                    parameters={\"include_regex\": \"CrossEntropyLoss_output_0\",\n",
    "                                                            \"train.save_interval\": \"10\",\n",
    "                                                            \"eval.save_interval\": \"1\"})]\n",
    "\n",
    "debugger_config = DebuggerHookConfig(collection_configs = collection_config)"
   ]
  },
  {
   "cell_type": "code",
   "execution_count": 195,
   "id": "c3c35d59-c562-42ae-929b-d006d710e3d2",
   "metadata": {
    "tags": []
   },
   "outputs": [
    {
     "name": "stdout",
     "output_type": "stream",
     "text": [
      "sagemaker.config INFO - Not applying SDK defaults from location: /etc/xdg/sagemaker/config.yaml\n",
      "sagemaker.config INFO - Not applying SDK defaults from location: /root/.config/sagemaker/config.yaml\n"
     ]
    }
   ],
   "source": [
    "estimator = PyTorch(entry_point = 'train_model1.py',\n",
    "                    role = role,\n",
    "                    instance_count=1,\n",
    "                    instance_type = 'ml.c5.4xlarge',\n",
    "                    py_version = 'py38',\n",
    "                    framework_version = '1.11.0',\n",
    "                    hyperparameters = hyperparameters,\n",
    "                    profiler_config = profiler_config, \n",
    "                    debugger_hook_config = debugger_config,\n",
    "                    output_path=output_path,\n",
    "                    rules = rules ) "
   ]
  },
  {
   "cell_type": "code",
   "execution_count": null,
   "id": "55a846de-18be-47d8-8b3a-0c8df59da33f",
   "metadata": {
    "collapsed": true,
    "jupyter": {
     "outputs_hidden": true
    },
    "tags": []
   },
   "outputs": [
    {
     "name": "stderr",
     "output_type": "stream",
     "text": [
      "INFO:sagemaker.image_uris:image_uri is not presented, retrieving image_uri based on instance_type, framework etc.\n"
     ]
    },
    {
     "name": "stdout",
     "output_type": "stream",
     "text": [
      "Using provided s3_resource\n"
     ]
    },
    {
     "name": "stderr",
     "output_type": "stream",
     "text": [
      "INFO:sagemaker.image_uris:image_uri is not presented, retrieving image_uri based on instance_type, framework etc.\n",
      "INFO:sagemaker:Creating training-job with name: pytorch-training-2023-10-25-19-01-28-382\n"
     ]
    },
    {
     "name": "stdout",
     "output_type": "stream",
     "text": [
      "2023-10-25 19:01:28 Starting - Starting the training job...\n",
      "2023-10-25 19:01:53 Starting - Preparing the instances for trainingVanishingGradient: InProgress\n",
      "PoorWeightInitialization: InProgress\n",
      "ProfilerReport: InProgress\n",
      "......\n",
      "2023-10-25 19:02:53 Downloading - Downloading input data......\n",
      "2023-10-25 19:03:53 Training - Downloading the training image...\n",
      "2023-10-25 19:04:28 Training - Training image download completed. Training in progress....\u001b[34mbash: cannot set terminal process group (-1): Inappropriate ioctl for device\u001b[0m\n",
      "\u001b[34mbash: no job control in this shell\u001b[0m\n",
      "\u001b[34m2023-10-25 15:04:51,028 sagemaker-training-toolkit INFO     Imported framework sagemaker_pytorch_container.training\u001b[0m\n",
      "\u001b[34m2023-10-25 15:04:51,029 sagemaker-training-toolkit INFO     No GPUs detected (normal if no gpus installed)\u001b[0m\n",
      "\u001b[34m2023-10-25 15:04:51,031 sagemaker-training-toolkit INFO     No Neurons detected (normal if no neurons installed)\u001b[0m\n",
      "\u001b[34m2023-10-25 15:04:51,041 sagemaker_pytorch_container.training INFO     Block until all host DNS lookups succeed.\u001b[0m\n",
      "\u001b[34m2023-10-25 15:04:51,043 sagemaker_pytorch_container.training INFO     Invoking user training script.\u001b[0m\n",
      "\u001b[34m2023-10-25 15:04:51,325 sagemaker-training-toolkit INFO     No GPUs detected (normal if no gpus installed)\u001b[0m\n",
      "\u001b[34m2023-10-25 15:04:51,327 sagemaker-training-toolkit INFO     No Neurons detected (normal if no neurons installed)\u001b[0m\n",
      "\u001b[34m2023-10-25 15:04:51,339 sagemaker-training-toolkit INFO     No GPUs detected (normal if no gpus installed)\u001b[0m\n",
      "\u001b[34m2023-10-25 15:04:51,341 sagemaker-training-toolkit INFO     No Neurons detected (normal if no neurons installed)\u001b[0m\n",
      "\u001b[34m2023-10-25 15:04:51,354 sagemaker-training-toolkit INFO     No GPUs detected (normal if no gpus installed)\u001b[0m\n",
      "\u001b[34m2023-10-25 15:04:51,356 sagemaker-training-toolkit INFO     No Neurons detected (normal if no neurons installed)\u001b[0m\n",
      "\u001b[34m2023-10-25 15:04:51,366 sagemaker-training-toolkit INFO     Invoking user script\u001b[0m\n",
      "\u001b[34mTraining Env:\u001b[0m\n",
      "\u001b[34m{\n",
      "    \"additional_framework_parameters\": {},\n",
      "    \"channel_input_dirs\": {\n",
      "        \"train\": \"/opt/ml/input/data/train\"\n",
      "    },\n",
      "    \"current_host\": \"algo-1\",\n",
      "    \"current_instance_group\": \"homogeneousCluster\",\n",
      "    \"current_instance_group_hosts\": [\n",
      "        \"algo-1\"\n",
      "    ],\n",
      "    \"current_instance_type\": \"ml.c5.4xlarge\",\n",
      "    \"distribution_hosts\": [],\n",
      "    \"distribution_instance_groups\": [],\n",
      "    \"framework_module\": \"sagemaker_pytorch_container.training:main\",\n",
      "    \"hosts\": [\n",
      "        \"algo-1\"\n",
      "    ],\n",
      "    \"hyperparameters\": {\n",
      "        \"epochs\": \"5\",\n",
      "        \"lr\": \"0.0021\"\n",
      "    },\n",
      "    \"input_config_dir\": \"/opt/ml/input/config\",\n",
      "    \"input_data_config\": {\n",
      "        \"train\": {\n",
      "            \"TrainingInputMode\": \"File\",\n",
      "            \"S3DistributionType\": \"FullyReplicated\",\n",
      "            \"RecordWrapperType\": \"None\"\n",
      "        }\n",
      "    },\n",
      "    \"input_dir\": \"/opt/ml/input\",\n",
      "    \"instance_groups\": [\n",
      "        \"homogeneousCluster\"\n",
      "    ],\n",
      "    \"instance_groups_dict\": {\n",
      "        \"homogeneousCluster\": {\n",
      "            \"instance_group_name\": \"homogeneousCluster\",\n",
      "            \"instance_type\": \"ml.c5.4xlarge\",\n",
      "            \"hosts\": [\n",
      "                \"algo-1\"\n",
      "            ]\n",
      "        }\n",
      "    },\n",
      "    \"is_hetero\": false,\n",
      "    \"is_master\": true,\n",
      "    \"is_modelparallel_enabled\": null,\n",
      "    \"is_smddpmprun_installed\": false,\n",
      "    \"job_name\": \"pytorch-training-2023-10-25-19-01-28-382\",\n",
      "    \"log_level\": 20,\n",
      "    \"master_hostname\": \"algo-1\",\n",
      "    \"model_dir\": \"/opt/ml/model\",\n",
      "    \"module_dir\": \"s3://mlub-dementia-demo/pytorch-training-2023-10-25-19-01-28-382/source/sourcedir.tar.gz\",\n",
      "    \"module_name\": \"train_model1\",\n",
      "    \"network_interface_name\": \"eth0\",\n",
      "    \"num_cpus\": 16,\n",
      "    \"num_gpus\": 0,\n",
      "    \"num_neurons\": 0,\n",
      "    \"output_data_dir\": \"/opt/ml/output/data\",\n",
      "    \"output_dir\": \"/opt/ml/output\",\n",
      "    \"output_intermediate_dir\": \"/opt/ml/output/intermediate\",\n",
      "    \"resource_config\": {\n",
      "        \"current_host\": \"algo-1\",\n",
      "        \"current_instance_type\": \"ml.c5.4xlarge\",\n",
      "        \"current_group_name\": \"homogeneousCluster\",\n",
      "        \"hosts\": [\n",
      "            \"algo-1\"\n",
      "        ],\n",
      "        \"instance_groups\": [\n",
      "            {\n",
      "                \"instance_group_name\": \"homogeneousCluster\",\n",
      "                \"instance_type\": \"ml.c5.4xlarge\",\n",
      "                \"hosts\": [\n",
      "                    \"algo-1\"\n",
      "                ]\n",
      "            }\n",
      "        ],\n",
      "        \"network_interface_name\": \"eth0\"\n",
      "    },\n",
      "    \"user_entry_point\": \"train_model1.py\"\u001b[0m\n",
      "\u001b[34m}\u001b[0m\n",
      "\u001b[34mEnvironment variables:\u001b[0m\n",
      "\u001b[34mSM_HOSTS=[\"algo-1\"]\u001b[0m\n",
      "\u001b[34mSM_NETWORK_INTERFACE_NAME=eth0\u001b[0m\n",
      "\u001b[34mSM_HPS={\"epochs\":\"5\",\"lr\":\"0.0021\"}\u001b[0m\n",
      "\u001b[34mSM_USER_ENTRY_POINT=train_model1.py\u001b[0m\n",
      "\u001b[34mSM_FRAMEWORK_PARAMS={}\u001b[0m\n",
      "\u001b[34mSM_RESOURCE_CONFIG={\"current_group_name\":\"homogeneousCluster\",\"current_host\":\"algo-1\",\"current_instance_type\":\"ml.c5.4xlarge\",\"hosts\":[\"algo-1\"],\"instance_groups\":[{\"hosts\":[\"algo-1\"],\"instance_group_name\":\"homogeneousCluster\",\"instance_type\":\"ml.c5.4xlarge\"}],\"network_interface_name\":\"eth0\"}\u001b[0m\n",
      "\u001b[34mSM_INPUT_DATA_CONFIG={\"train\":{\"RecordWrapperType\":\"None\",\"S3DistributionType\":\"FullyReplicated\",\"TrainingInputMode\":\"File\"}}\u001b[0m\n",
      "\u001b[34mSM_OUTPUT_DATA_DIR=/opt/ml/output/data\u001b[0m\n",
      "\u001b[34mSM_CHANNELS=[\"train\"]\u001b[0m\n",
      "\u001b[34mSM_CURRENT_HOST=algo-1\u001b[0m\n",
      "\u001b[34mSM_CURRENT_INSTANCE_TYPE=ml.c5.4xlarge\u001b[0m\n",
      "\u001b[34mSM_CURRENT_INSTANCE_GROUP=homogeneousCluster\u001b[0m\n",
      "\u001b[34mSM_CURRENT_INSTANCE_GROUP_HOSTS=[\"algo-1\"]\u001b[0m\n",
      "\u001b[34mSM_INSTANCE_GROUPS=[\"homogeneousCluster\"]\u001b[0m\n",
      "\u001b[34mSM_INSTANCE_GROUPS_DICT={\"homogeneousCluster\":{\"hosts\":[\"algo-1\"],\"instance_group_name\":\"homogeneousCluster\",\"instance_type\":\"ml.c5.4xlarge\"}}\u001b[0m\n",
      "\u001b[34mSM_DISTRIBUTION_INSTANCE_GROUPS=[]\u001b[0m\n",
      "\u001b[34mSM_IS_HETERO=false\u001b[0m\n",
      "\u001b[34mSM_MODULE_NAME=train_model1\u001b[0m\n",
      "\u001b[34mSM_LOG_LEVEL=20\u001b[0m\n",
      "\u001b[34mSM_FRAMEWORK_MODULE=sagemaker_pytorch_container.training:main\u001b[0m\n",
      "\u001b[34mSM_INPUT_DIR=/opt/ml/input\u001b[0m\n",
      "\u001b[34mSM_INPUT_CONFIG_DIR=/opt/ml/input/config\u001b[0m\n",
      "\u001b[34mSM_OUTPUT_DIR=/opt/ml/output\u001b[0m\n",
      "\u001b[34mSM_NUM_CPUS=16\u001b[0m\n",
      "\u001b[34mSM_NUM_GPUS=0\u001b[0m\n",
      "\u001b[34mSM_NUM_NEURONS=0\u001b[0m\n",
      "\u001b[34mSM_MODEL_DIR=/opt/ml/model\u001b[0m\n",
      "\u001b[34mSM_MODULE_DIR=s3://mlub-dementia-demo/pytorch-training-2023-10-25-19-01-28-382/source/sourcedir.tar.gz\u001b[0m\n",
      "\u001b[34mSM_TRAINING_ENV={\"additional_framework_parameters\":{},\"channel_input_dirs\":{\"train\":\"/opt/ml/input/data/train\"},\"current_host\":\"algo-1\",\"current_instance_group\":\"homogeneousCluster\",\"current_instance_group_hosts\":[\"algo-1\"],\"current_instance_type\":\"ml.c5.4xlarge\",\"distribution_hosts\":[],\"distribution_instance_groups\":[],\"framework_module\":\"sagemaker_pytorch_container.training:main\",\"hosts\":[\"algo-1\"],\"hyperparameters\":{\"epochs\":\"5\",\"lr\":\"0.0021\"},\"input_config_dir\":\"/opt/ml/input/config\",\"input_data_config\":{\"train\":{\"RecordWrapperType\":\"None\",\"S3DistributionType\":\"FullyReplicated\",\"TrainingInputMode\":\"File\"}},\"input_dir\":\"/opt/ml/input\",\"instance_groups\":[\"homogeneousCluster\"],\"instance_groups_dict\":{\"homogeneousCluster\":{\"hosts\":[\"algo-1\"],\"instance_group_name\":\"homogeneousCluster\",\"instance_type\":\"ml.c5.4xlarge\"}},\"is_hetero\":false,\"is_master\":true,\"is_modelparallel_enabled\":null,\"is_smddpmprun_installed\":false,\"job_name\":\"pytorch-training-2023-10-25-19-01-28-382\",\"log_level\":20,\"master_hostname\":\"algo-1\",\"model_dir\":\"/opt/ml/model\",\"module_dir\":\"s3://mlub-dementia-demo/pytorch-training-2023-10-25-19-01-28-382/source/sourcedir.tar.gz\",\"module_name\":\"train_model1\",\"network_interface_name\":\"eth0\",\"num_cpus\":16,\"num_gpus\":0,\"num_neurons\":0,\"output_data_dir\":\"/opt/ml/output/data\",\"output_dir\":\"/opt/ml/output\",\"output_intermediate_dir\":\"/opt/ml/output/intermediate\",\"resource_config\":{\"current_group_name\":\"homogeneousCluster\",\"current_host\":\"algo-1\",\"current_instance_type\":\"ml.c5.4xlarge\",\"hosts\":[\"algo-1\"],\"instance_groups\":[{\"hosts\":[\"algo-1\"],\"instance_group_name\":\"homogeneousCluster\",\"instance_type\":\"ml.c5.4xlarge\"}],\"network_interface_name\":\"eth0\"},\"user_entry_point\":\"train_model1.py\"}\u001b[0m\n",
      "\u001b[34mSM_USER_ARGS=[\"--epochs\",\"5\",\"--lr\",\"0.0021\"]\u001b[0m\n",
      "\u001b[34mSM_OUTPUT_INTERMEDIATE_DIR=/opt/ml/output/intermediate\u001b[0m\n",
      "\u001b[34mSM_CHANNEL_TRAIN=/opt/ml/input/data/train\u001b[0m\n",
      "\u001b[34mSM_HP_EPOCHS=5\u001b[0m\n",
      "\u001b[34mSM_HP_LR=0.0021\u001b[0m\n",
      "\u001b[34mPYTHONPATH=/opt/ml/code:/opt/conda/bin:/opt/conda/lib/python38.zip:/opt/conda/lib/python3.8:/opt/conda/lib/python3.8/lib-dynload:/opt/conda/lib/python3.8/site-packages:/opt/conda/lib/python3.8/site-packages/smdebug-1.0.26b20230214-py3.8.egg:/opt/conda/lib/python3.8/site-packages/pyinstrument-3.4.2-py3.8.egg:/opt/conda/lib/python3.8/site-packages/pyinstrument_cext-0.2.4-py3.8-linux-x86_64.egg\u001b[0m\n",
      "\u001b[34mInvoking script with the following command:\u001b[0m\n",
      "\u001b[34m/opt/conda/bin/python3.8 train_model1.py --epochs 5 --lr 0.0021\u001b[0m\n",
      "\u001b[34m2023-10-25 15:04:51,819 sagemaker-training-toolkit INFO     Exceptions not imported for SageMaker TF as Tensorflow is not installed.\u001b[0m\n",
      "\u001b[34m[2023-10-25 15:04:52.521 algo-1:55 INFO utils.py:28] RULE_JOB_STOP_SIGNAL_FILENAME: None\u001b[0m\n",
      "\u001b[34m/opt/conda/lib/python3.8/site-packages/smdebug-1.0.26b20230214-py3.8.egg/smdebug/profiler/system_metrics_reader.py:78: SyntaxWarning: \"is not\" with a literal. Did you mean \"!=\"?\u001b[0m\n",
      "\u001b[34m/opt/conda/lib/python3.8/site-packages/smdebug-1.0.26b20230214-py3.8.egg/smdebug/profiler/system_metrics_reader.py:78: SyntaxWarning: \"is not\" with a literal. Did you mean \"!=\"?\u001b[0m\n",
      "\u001b[34m[2023-10-25 15:04:53.116 algo-1:55 INFO profiler_config_parser.py:111] Using config at /opt/ml/input/config/profilerconfig.json.\u001b[0m\n",
      "\u001b[34mDownloading: \"https://download.pytorch.org/models/resnet50-0676ba61.pth\" to /root/.cache/torch/hub/checkpoints/resnet50-0676ba61.pth\u001b[0m\n",
      "\u001b[34m0%|          | 0.00/97.8M [00:00<?, ?B/s]\u001b[0m\n",
      "\u001b[34m11%|█▏        | 11.0M/97.8M [00:00<00:00, 116MB/s]\u001b[0m\n",
      "\u001b[34m23%|██▎       | 22.5M/97.8M [00:00<00:00, 118MB/s]\u001b[0m\n",
      "\u001b[34m35%|███▍      | 33.9M/97.8M [00:00<00:00, 119MB/s]\u001b[0m\n",
      "\u001b[34m46%|████▋     | 45.4M/97.8M [00:00<00:00, 119MB/s]\u001b[0m\n",
      "\u001b[34m58%|█████▊    | 56.8M/97.8M [00:00<00:00, 119MB/s]\u001b[0m\n",
      "\u001b[34m70%|██████▉   | 68.2M/97.8M [00:00<00:00, 120MB/s]\u001b[0m\n",
      "\u001b[34m81%|████████▏ | 79.6M/97.8M [00:00<00:00, 119MB/s]\u001b[0m\n",
      "\u001b[34m93%|█████████▎| 91.0M/97.8M [00:00<00:00, 119MB/s]\u001b[0m\n",
      "\u001b[34m100%|██████████| 97.8M/97.8M [00:00<00:00, 119MB/s]\u001b[0m\n",
      "\u001b[34m[2023-10-25 15:04:54.687 algo-1:55 INFO json_config.py:92] Creating hook from json_config at /opt/ml/input/config/debughookconfig.json.\u001b[0m\n",
      "\u001b[34m[2023-10-25 15:04:54.688 algo-1:55 INFO hook.py:206] tensorboard_dir has not been set for the hook. SMDebug will not be exporting tensorboard summaries.\u001b[0m\n",
      "\u001b[34m[2023-10-25 15:04:54.690 algo-1:55 INFO hook.py:259] Saving to /opt/ml/output/tensors\u001b[0m\n",
      "\u001b[34m[2023-10-25 15:04:54.690 algo-1:55 INFO state_store.py:77] The checkpoint config file /opt/ml/input/config/checkpointconfig.json does not exist.\u001b[0m\n",
      "\u001b[34m[2023-10-25 15:04:54.711 algo-1:55 INFO hook.py:561] name:conv1.weight count_params:9408\u001b[0m\n",
      "\u001b[34m[2023-10-25 15:04:54.711 algo-1:55 INFO hook.py:561] name:bn1.weight count_params:64\u001b[0m\n",
      "\u001b[34m[2023-10-25 15:04:54.712 algo-1:55 INFO hook.py:561] name:bn1.bias count_params:64\u001b[0m\n",
      "\u001b[34m[2023-10-25 15:04:54.712 algo-1:55 INFO hook.py:561] name:layer1.0.conv1.weight count_params:4096\u001b[0m\n",
      "\u001b[34m[2023-10-25 15:04:54.712 algo-1:55 INFO hook.py:561] name:layer1.0.bn1.weight count_params:64\u001b[0m\n",
      "\u001b[34m[2023-10-25 15:04:54.712 algo-1:55 INFO hook.py:561] name:layer1.0.bn1.bias count_params:64\u001b[0m\n",
      "\u001b[34m[2023-10-25 15:04:54.713 algo-1:55 INFO hook.py:561] name:layer1.0.conv2.weight count_params:36864\u001b[0m\n",
      "\u001b[34m[2023-10-25 15:04:54.713 algo-1:55 INFO hook.py:561] name:layer1.0.bn2.weight count_params:64\u001b[0m\n",
      "\u001b[34m[2023-10-25 15:04:54.713 algo-1:55 INFO hook.py:561] name:layer1.0.bn2.bias count_params:64\u001b[0m\n",
      "\u001b[34m[2023-10-25 15:04:54.713 algo-1:55 INFO hook.py:561] name:layer1.0.conv3.weight count_params:16384\u001b[0m\n",
      "\u001b[34m[2023-10-25 15:04:54.714 algo-1:55 INFO hook.py:561] name:layer1.0.bn3.weight count_params:256\u001b[0m\n",
      "\u001b[34m[2023-10-25 15:04:54.714 algo-1:55 INFO hook.py:561] name:layer1.0.bn3.bias count_params:256\u001b[0m\n",
      "\u001b[34m[2023-10-25 15:04:54.714 algo-1:55 INFO hook.py:561] name:layer1.0.downsample.0.weight count_params:16384\u001b[0m\n",
      "\u001b[34m[2023-10-25 15:04:54.714 algo-1:55 INFO hook.py:561] name:layer1.0.downsample.1.weight count_params:256\u001b[0m\n",
      "\u001b[34m[2023-10-25 15:04:54.714 algo-1:55 INFO hook.py:561] name:layer1.0.downsample.1.bias count_params:256\u001b[0m\n",
      "\u001b[34m[2023-10-25 15:04:54.715 algo-1:55 INFO hook.py:561] name:layer1.1.conv1.weight count_params:16384\u001b[0m\n",
      "\u001b[34m[2023-10-25 15:04:54.715 algo-1:55 INFO hook.py:561] name:layer1.1.bn1.weight count_params:64\u001b[0m\n",
      "\u001b[34m[2023-10-25 15:04:54.715 algo-1:55 INFO hook.py:561] name:layer1.1.bn1.bias count_params:64\u001b[0m\n",
      "\u001b[34m[2023-10-25 15:04:54.715 algo-1:55 INFO hook.py:561] name:layer1.1.conv2.weight count_params:36864\u001b[0m\n",
      "\u001b[34m[2023-10-25 15:04:54.716 algo-1:55 INFO hook.py:561] name:layer1.1.bn2.weight count_params:64\u001b[0m\n",
      "\u001b[34m[2023-10-25 15:04:54.716 algo-1:55 INFO hook.py:561] name:layer1.1.bn2.bias count_params:64\u001b[0m\n",
      "\u001b[34m[2023-10-25 15:04:54.716 algo-1:55 INFO hook.py:561] name:layer1.1.conv3.weight count_params:16384\u001b[0m\n",
      "\u001b[34m[2023-10-25 15:04:54.716 algo-1:55 INFO hook.py:561] name:layer1.1.bn3.weight count_params:256\u001b[0m\n",
      "\u001b[34m[2023-10-25 15:04:54.716 algo-1:55 INFO hook.py:561] name:layer1.1.bn3.bias count_params:256\u001b[0m\n",
      "\u001b[34m[2023-10-25 15:04:54.717 algo-1:55 INFO hook.py:561] name:layer1.2.conv1.weight count_params:16384\u001b[0m\n",
      "\u001b[34m[2023-10-25 15:04:54.717 algo-1:55 INFO hook.py:561] name:layer1.2.bn1.weight count_params:64\u001b[0m\n",
      "\u001b[34m[2023-10-25 15:04:54.717 algo-1:55 INFO hook.py:561] name:layer1.2.bn1.bias count_params:64\u001b[0m\n",
      "\u001b[34m[2023-10-25 15:04:54.717 algo-1:55 INFO hook.py:561] name:layer1.2.conv2.weight count_params:36864\u001b[0m\n",
      "\u001b[34m[2023-10-25 15:04:54.718 algo-1:55 INFO hook.py:561] name:layer1.2.bn2.weight count_params:64\u001b[0m\n",
      "\u001b[34m[2023-10-25 15:04:54.718 algo-1:55 INFO hook.py:561] name:layer1.2.bn2.bias count_params:64\u001b[0m\n",
      "\u001b[34m[2023-10-25 15:04:54.718 algo-1:55 INFO hook.py:561] name:layer1.2.conv3.weight count_params:16384\u001b[0m\n",
      "\u001b[34m[2023-10-25 15:04:54.718 algo-1:55 INFO hook.py:561] name:layer1.2.bn3.weight count_params:256\u001b[0m\n",
      "\u001b[34m[2023-10-25 15:04:54.719 algo-1:55 INFO hook.py:561] name:layer1.2.bn3.bias count_params:256\u001b[0m\n",
      "\u001b[34m[2023-10-25 15:04:54.719 algo-1:55 INFO hook.py:561] name:layer2.0.conv1.weight count_params:32768\u001b[0m\n",
      "\u001b[34m[2023-10-25 15:04:54.719 algo-1:55 INFO hook.py:561] name:layer2.0.bn1.weight count_params:128\u001b[0m\n",
      "\u001b[34m[2023-10-25 15:04:54.719 algo-1:55 INFO hook.py:561] name:layer2.0.bn1.bias count_params:128\u001b[0m\n",
      "\u001b[34m[2023-10-25 15:04:54.719 algo-1:55 INFO hook.py:561] name:layer2.0.conv2.weight count_params:147456\u001b[0m\n",
      "\u001b[34m[2023-10-25 15:04:54.720 algo-1:55 INFO hook.py:561] name:layer2.0.bn2.weight count_params:128\u001b[0m\n",
      "\u001b[34m[2023-10-25 15:04:54.720 algo-1:55 INFO hook.py:561] name:layer2.0.bn2.bias count_params:128\u001b[0m\n",
      "\u001b[34m[2023-10-25 15:04:54.720 algo-1:55 INFO hook.py:561] name:layer2.0.conv3.weight count_params:65536\u001b[0m\n",
      "\u001b[34m[2023-10-25 15:04:54.720 algo-1:55 INFO hook.py:561] name:layer2.0.bn3.weight count_params:512\u001b[0m\n",
      "\u001b[34m[2023-10-25 15:04:54.721 algo-1:55 INFO hook.py:561] name:layer2.0.bn3.bias count_params:512\u001b[0m\n",
      "\u001b[34m[2023-10-25 15:04:54.721 algo-1:55 INFO hook.py:561] name:layer2.0.downsample.0.weight count_params:131072\u001b[0m\n",
      "\u001b[34m[2023-10-25 15:04:54.721 algo-1:55 INFO hook.py:561] name:layer2.0.downsample.1.weight count_params:512\u001b[0m\n",
      "\u001b[34m[2023-10-25 15:04:54.721 algo-1:55 INFO hook.py:561] name:layer2.0.downsample.1.bias count_params:512\u001b[0m\n",
      "\u001b[34m[2023-10-25 15:04:54.722 algo-1:55 INFO hook.py:561] name:layer2.1.conv1.weight count_params:65536\u001b[0m\n",
      "\u001b[34m[2023-10-25 15:04:54.722 algo-1:55 INFO hook.py:561] name:layer2.1.bn1.weight count_params:128\u001b[0m\n",
      "\u001b[34m[2023-10-25 15:04:54.722 algo-1:55 INFO hook.py:561] name:layer2.1.bn1.bias count_params:128\u001b[0m\n",
      "\u001b[34m[2023-10-25 15:04:54.722 algo-1:55 INFO hook.py:561] name:layer2.1.conv2.weight count_params:147456\u001b[0m\n",
      "\u001b[34m[2023-10-25 15:04:54.722 algo-1:55 INFO hook.py:561] name:layer2.1.bn2.weight count_params:128\u001b[0m\n",
      "\u001b[34m[2023-10-25 15:04:54.723 algo-1:55 INFO hook.py:561] name:layer2.1.bn2.bias count_params:128\u001b[0m\n",
      "\u001b[34m[2023-10-25 15:04:54.723 algo-1:55 INFO hook.py:561] name:layer2.1.conv3.weight count_params:65536\u001b[0m\n",
      "\u001b[34m[2023-10-25 15:04:54.723 algo-1:55 INFO hook.py:561] name:layer2.1.bn3.weight count_params:512\u001b[0m\n",
      "\u001b[34m[2023-10-25 15:04:54.723 algo-1:55 INFO hook.py:561] name:layer2.1.bn3.bias count_params:512\u001b[0m\n",
      "\u001b[34m[2023-10-25 15:04:54.724 algo-1:55 INFO hook.py:561] name:layer2.2.conv1.weight count_params:65536\u001b[0m\n",
      "\u001b[34m[2023-10-25 15:04:54.724 algo-1:55 INFO hook.py:561] name:layer2.2.bn1.weight count_params:128\u001b[0m\n",
      "\u001b[34m[2023-10-25 15:04:54.724 algo-1:55 INFO hook.py:561] name:layer2.2.bn1.bias count_params:128\u001b[0m\n",
      "\u001b[34m[2023-10-25 15:04:54.724 algo-1:55 INFO hook.py:561] name:layer2.2.conv2.weight count_params:147456\u001b[0m\n",
      "\u001b[34m[2023-10-25 15:04:54.724 algo-1:55 INFO hook.py:561] name:layer2.2.bn2.weight count_params:128\u001b[0m\n",
      "\u001b[34m[2023-10-25 15:04:54.725 algo-1:55 INFO hook.py:561] name:layer2.2.bn2.bias count_params:128\u001b[0m\n",
      "\u001b[34m[2023-10-25 15:04:54.725 algo-1:55 INFO hook.py:561] name:layer2.2.conv3.weight count_params:65536\u001b[0m\n",
      "\u001b[34m[2023-10-25 15:04:54.725 algo-1:55 INFO hook.py:561] name:layer2.2.bn3.weight count_params:512\u001b[0m\n",
      "\u001b[34m[2023-10-25 15:04:54.725 algo-1:55 INFO hook.py:561] name:layer2.2.bn3.bias count_params:512\u001b[0m\n",
      "\u001b[34m[2023-10-25 15:04:54.726 algo-1:55 INFO hook.py:561] name:layer2.3.conv1.weight count_params:65536\u001b[0m\n",
      "\u001b[34m[2023-10-25 15:04:54.726 algo-1:55 INFO hook.py:561] name:layer2.3.bn1.weight count_params:128\u001b[0m\n",
      "\u001b[34m[2023-10-25 15:04:54.726 algo-1:55 INFO hook.py:561] name:layer2.3.bn1.bias count_params:128\u001b[0m\n",
      "\u001b[34m[2023-10-25 15:04:54.726 algo-1:55 INFO hook.py:561] name:layer2.3.conv2.weight count_params:147456\u001b[0m\n",
      "\u001b[34m[2023-10-25 15:04:54.727 algo-1:55 INFO hook.py:561] name:layer2.3.bn2.weight count_params:128\u001b[0m\n",
      "\u001b[34m[2023-10-25 15:04:54.727 algo-1:55 INFO hook.py:561] name:layer2.3.bn2.bias count_params:128\u001b[0m\n",
      "\u001b[34m[2023-10-25 15:04:54.727 algo-1:55 INFO hook.py:561] name:layer2.3.conv3.weight count_params:65536\u001b[0m\n",
      "\u001b[34m[2023-10-25 15:04:54.727 algo-1:55 INFO hook.py:561] name:layer2.3.bn3.weight count_params:512\u001b[0m\n",
      "\u001b[34m[2023-10-25 15:04:54.728 algo-1:55 INFO hook.py:561] name:layer2.3.bn3.bias count_params:512\u001b[0m\n",
      "\u001b[34m[2023-10-25 15:04:54.728 algo-1:55 INFO hook.py:561] name:layer3.0.conv1.weight count_params:131072\u001b[0m\n",
      "\u001b[34m[2023-10-25 15:04:54.728 algo-1:55 INFO hook.py:561] name:layer3.0.bn1.weight count_params:256\u001b[0m\n",
      "\u001b[34m[2023-10-25 15:04:54.728 algo-1:55 INFO hook.py:561] name:layer3.0.bn1.bias count_params:256\u001b[0m\n",
      "\u001b[34m[2023-10-25 15:04:54.728 algo-1:55 INFO hook.py:561] name:layer3.0.conv2.weight count_params:589824\u001b[0m\n",
      "\u001b[34m[2023-10-25 15:04:54.729 algo-1:55 INFO hook.py:561] name:layer3.0.bn2.weight count_params:256\u001b[0m\n",
      "\u001b[34m[2023-10-25 15:04:54.729 algo-1:55 INFO hook.py:561] name:layer3.0.bn2.bias count_params:256\u001b[0m\n",
      "\u001b[34m[2023-10-25 15:04:54.729 algo-1:55 INFO hook.py:561] name:layer3.0.conv3.weight count_params:262144\u001b[0m\n",
      "\u001b[34m[2023-10-25 15:04:54.729 algo-1:55 INFO hook.py:561] name:layer3.0.bn3.weight count_params:1024\u001b[0m\n",
      "\u001b[34m[2023-10-25 15:04:54.730 algo-1:55 INFO hook.py:561] name:layer3.0.bn3.bias count_params:1024\u001b[0m\n",
      "\u001b[34m[2023-10-25 15:04:54.730 algo-1:55 INFO hook.py:561] name:layer3.0.downsample.0.weight count_params:524288\u001b[0m\n",
      "\u001b[34m[2023-10-25 15:04:54.730 algo-1:55 INFO hook.py:561] name:layer3.0.downsample.1.weight count_params:1024\u001b[0m\n",
      "\u001b[34m[2023-10-25 15:04:54.730 algo-1:55 INFO hook.py:561] name:layer3.0.downsample.1.bias count_params:1024\u001b[0m\n",
      "\u001b[34m[2023-10-25 15:04:54.731 algo-1:55 INFO hook.py:561] name:layer3.1.conv1.weight count_params:262144\u001b[0m\n",
      "\u001b[34m[2023-10-25 15:04:54.731 algo-1:55 INFO hook.py:561] name:layer3.1.bn1.weight count_params:256\u001b[0m\n",
      "\u001b[34m[2023-10-25 15:04:54.731 algo-1:55 INFO hook.py:561] name:layer3.1.bn1.bias count_params:256\u001b[0m\n",
      "\u001b[34m[2023-10-25 15:04:54.731 algo-1:55 INFO hook.py:561] name:layer3.1.conv2.weight count_params:589824\u001b[0m\n",
      "\u001b[34m[2023-10-25 15:04:54.732 algo-1:55 INFO hook.py:561] name:layer3.1.bn2.weight count_params:256\u001b[0m\n",
      "\u001b[34m[2023-10-25 15:04:54.732 algo-1:55 INFO hook.py:561] name:layer3.1.bn2.bias count_params:256\u001b[0m\n",
      "\u001b[34m[2023-10-25 15:04:54.732 algo-1:55 INFO hook.py:561] name:layer3.1.conv3.weight count_params:262144\u001b[0m\n",
      "\u001b[34m[2023-10-25 15:04:54.732 algo-1:55 INFO hook.py:561] name:layer3.1.bn3.weight count_params:1024\u001b[0m\n",
      "\u001b[34m[2023-10-25 15:04:54.732 algo-1:55 INFO hook.py:561] name:layer3.1.bn3.bias count_params:1024\u001b[0m\n",
      "\u001b[34m[2023-10-25 15:04:54.733 algo-1:55 INFO hook.py:561] name:layer3.2.conv1.weight count_params:262144\u001b[0m\n",
      "\u001b[34m[2023-10-25 15:04:54.733 algo-1:55 INFO hook.py:561] name:layer3.2.bn1.weight count_params:256\u001b[0m\n",
      "\u001b[34m[2023-10-25 15:04:54.733 algo-1:55 INFO hook.py:561] name:layer3.2.bn1.bias count_params:256\u001b[0m\n",
      "\u001b[34m[2023-10-25 15:04:54.733 algo-1:55 INFO hook.py:561] name:layer3.2.conv2.weight count_params:589824\u001b[0m\n",
      "\u001b[34m[2023-10-25 15:04:54.734 algo-1:55 INFO hook.py:561] name:layer3.2.bn2.weight count_params:256\u001b[0m\n",
      "\u001b[34m[2023-10-25 15:04:54.734 algo-1:55 INFO hook.py:561] name:layer3.2.bn2.bias count_params:256\u001b[0m\n",
      "\u001b[34m[2023-10-25 15:04:54.734 algo-1:55 INFO hook.py:561] name:layer3.2.conv3.weight count_params:262144\u001b[0m\n",
      "\u001b[34m[2023-10-25 15:04:54.734 algo-1:55 INFO hook.py:561] name:layer3.2.bn3.weight count_params:1024\u001b[0m\n",
      "\u001b[34m[2023-10-25 15:04:54.735 algo-1:55 INFO hook.py:561] name:layer3.2.bn3.bias count_params:1024\u001b[0m\n",
      "\u001b[34m[2023-10-25 15:04:54.735 algo-1:55 INFO hook.py:561] name:layer3.3.conv1.weight count_params:262144\u001b[0m\n",
      "\u001b[34m[2023-10-25 15:04:54.735 algo-1:55 INFO hook.py:561] name:layer3.3.bn1.weight count_params:256\u001b[0m\n",
      "\u001b[34m[2023-10-25 15:04:54.735 algo-1:55 INFO hook.py:561] name:layer3.3.bn1.bias count_params:256\u001b[0m\n",
      "\u001b[34m[2023-10-25 15:04:54.736 algo-1:55 INFO hook.py:561] name:layer3.3.conv2.weight count_params:589824\u001b[0m\n",
      "\u001b[34m[2023-10-25 15:04:54.736 algo-1:55 INFO hook.py:561] name:layer3.3.bn2.weight count_params:256\u001b[0m\n",
      "\u001b[34m[2023-10-25 15:04:54.736 algo-1:55 INFO hook.py:561] name:layer3.3.bn2.bias count_params:256\u001b[0m\n",
      "\u001b[34m[2023-10-25 15:04:54.736 algo-1:55 INFO hook.py:561] name:layer3.3.conv3.weight count_params:262144\u001b[0m\n",
      "\u001b[34m[2023-10-25 15:04:54.736 algo-1:55 INFO hook.py:561] name:layer3.3.bn3.weight count_params:1024\u001b[0m\n",
      "\u001b[34m[2023-10-25 15:04:54.737 algo-1:55 INFO hook.py:561] name:layer3.3.bn3.bias count_params:1024\u001b[0m\n",
      "\u001b[34m[2023-10-25 15:04:54.737 algo-1:55 INFO hook.py:561] name:layer3.4.conv1.weight count_params:262144\u001b[0m\n",
      "\u001b[34m[2023-10-25 15:04:54.737 algo-1:55 INFO hook.py:561] name:layer3.4.bn1.weight count_params:256\u001b[0m\n",
      "\u001b[34m[2023-10-25 15:04:54.737 algo-1:55 INFO hook.py:561] name:layer3.4.bn1.bias count_params:256\u001b[0m\n",
      "\u001b[34m[2023-10-25 15:04:54.738 algo-1:55 INFO hook.py:561] name:layer3.4.conv2.weight count_params:589824\u001b[0m\n",
      "\u001b[34m[2023-10-25 15:04:54.738 algo-1:55 INFO hook.py:561] name:layer3.4.bn2.weight count_params:256\u001b[0m\n",
      "\u001b[34m[2023-10-25 15:04:54.738 algo-1:55 INFO hook.py:561] name:layer3.4.bn2.bias count_params:256\u001b[0m\n",
      "\u001b[34m[2023-10-25 15:04:54.738 algo-1:55 INFO hook.py:561] name:layer3.4.conv3.weight count_params:262144\u001b[0m\n",
      "\u001b[34m[2023-10-25 15:04:54.739 algo-1:55 INFO hook.py:561] name:layer3.4.bn3.weight count_params:1024\u001b[0m\n",
      "\u001b[34m[2023-10-25 15:04:54.739 algo-1:55 INFO hook.py:561] name:layer3.4.bn3.bias count_params:1024\u001b[0m\n",
      "\u001b[34m[2023-10-25 15:04:54.739 algo-1:55 INFO hook.py:561] name:layer3.5.conv1.weight count_params:262144\u001b[0m\n",
      "\u001b[34m[2023-10-25 15:04:54.739 algo-1:55 INFO hook.py:561] name:layer3.5.bn1.weight count_params:256\u001b[0m\n",
      "\u001b[34m[2023-10-25 15:04:54.740 algo-1:55 INFO hook.py:561] name:layer3.5.bn1.bias count_params:256\u001b[0m\n",
      "\u001b[34m[2023-10-25 15:04:54.740 algo-1:55 INFO hook.py:561] name:layer3.5.conv2.weight count_params:589824\u001b[0m\n",
      "\u001b[34m[2023-10-25 15:04:54.740 algo-1:55 INFO hook.py:561] name:layer3.5.bn2.weight count_params:256\u001b[0m\n",
      "\u001b[34m[2023-10-25 15:04:54.740 algo-1:55 INFO hook.py:561] name:layer3.5.bn2.bias count_params:256\u001b[0m\n",
      "\u001b[34m[2023-10-25 15:04:54.740 algo-1:55 INFO hook.py:561] name:layer3.5.conv3.weight count_params:262144\u001b[0m\n",
      "\u001b[34m[2023-10-25 15:04:54.741 algo-1:55 INFO hook.py:561] name:layer3.5.bn3.weight count_params:1024\u001b[0m\n",
      "\u001b[34m[2023-10-25 15:04:54.741 algo-1:55 INFO hook.py:561] name:layer3.5.bn3.bias count_params:1024\u001b[0m\n",
      "\u001b[34m[2023-10-25 15:04:54.741 algo-1:55 INFO hook.py:561] name:layer4.0.conv1.weight count_params:524288\u001b[0m\n",
      "\u001b[34m[2023-10-25 15:04:54.741 algo-1:55 INFO hook.py:561] name:layer4.0.bn1.weight count_params:512\u001b[0m\n",
      "\u001b[34m[2023-10-25 15:04:54.742 algo-1:55 INFO hook.py:561] name:layer4.0.bn1.bias count_params:512\u001b[0m\n",
      "\u001b[34m[2023-10-25 15:04:54.742 algo-1:55 INFO hook.py:561] name:layer4.0.conv2.weight count_params:2359296\u001b[0m\n",
      "\u001b[34m[2023-10-25 15:04:54.742 algo-1:55 INFO hook.py:561] name:layer4.0.bn2.weight count_params:512\u001b[0m\n",
      "\u001b[34m[2023-10-25 15:04:54.742 algo-1:55 INFO hook.py:561] name:layer4.0.bn2.bias count_params:512\u001b[0m\n",
      "\u001b[34m[2023-10-25 15:04:54.743 algo-1:55 INFO hook.py:561] name:layer4.0.conv3.weight count_params:1048576\u001b[0m\n",
      "\u001b[34m[2023-10-25 15:04:54.743 algo-1:55 INFO hook.py:561] name:layer4.0.bn3.weight count_params:2048\u001b[0m\n",
      "\u001b[34m[2023-10-25 15:04:54.743 algo-1:55 INFO hook.py:561] name:layer4.0.bn3.bias count_params:2048\u001b[0m\n",
      "\u001b[34m[2023-10-25 15:04:54.743 algo-1:55 INFO hook.py:561] name:layer4.0.downsample.0.weight count_params:2097152\u001b[0m\n",
      "\u001b[34m[2023-10-25 15:04:54.744 algo-1:55 INFO hook.py:561] name:layer4.0.downsample.1.weight count_params:2048\u001b[0m\n",
      "\u001b[34m[2023-10-25 15:04:54.744 algo-1:55 INFO hook.py:561] name:layer4.0.downsample.1.bias count_params:2048\u001b[0m\n",
      "\u001b[34m[2023-10-25 15:04:54.744 algo-1:55 INFO hook.py:561] name:layer4.1.conv1.weight count_params:1048576\u001b[0m\n",
      "\u001b[34m[2023-10-25 15:04:54.744 algo-1:55 INFO hook.py:561] name:layer4.1.bn1.weight count_params:512\u001b[0m\n",
      "\u001b[34m[2023-10-25 15:04:54.745 algo-1:55 INFO hook.py:561] name:layer4.1.bn1.bias count_params:512\u001b[0m\n",
      "\u001b[34m[2023-10-25 15:04:54.745 algo-1:55 INFO hook.py:561] name:layer4.1.conv2.weight count_params:2359296\u001b[0m\n",
      "\u001b[34m[2023-10-25 15:04:54.745 algo-1:55 INFO hook.py:561] name:layer4.1.bn2.weight count_params:512\u001b[0m\n",
      "\u001b[34m[2023-10-25 15:04:54.745 algo-1:55 INFO hook.py:561] name:layer4.1.bn2.bias count_params:512\u001b[0m\n",
      "\u001b[34m[2023-10-25 15:04:54.746 algo-1:55 INFO hook.py:561] name:layer4.1.conv3.weight count_params:1048576\u001b[0m\n",
      "\u001b[34m[2023-10-25 15:04:54.746 algo-1:55 INFO hook.py:561] name:layer4.1.bn3.weight count_params:2048\u001b[0m\n",
      "\u001b[34m[2023-10-25 15:04:54.746 algo-1:55 INFO hook.py:561] name:layer4.1.bn3.bias count_params:2048\u001b[0m\n",
      "\u001b[34m[2023-10-25 15:04:54.746 algo-1:55 INFO hook.py:561] name:layer4.2.conv1.weight count_params:1048576\u001b[0m\n",
      "\u001b[34m[2023-10-25 15:04:54.747 algo-1:55 INFO hook.py:561] name:layer4.2.bn1.weight count_params:512\u001b[0m\n",
      "\u001b[34m[2023-10-25 15:04:54.747 algo-1:55 INFO hook.py:561] name:layer4.2.bn1.bias count_params:512\u001b[0m\n",
      "\u001b[34m[2023-10-25 15:04:54.747 algo-1:55 INFO hook.py:561] name:layer4.2.conv2.weight count_params:2359296\u001b[0m\n",
      "\u001b[34m[2023-10-25 15:04:54.747 algo-1:55 INFO hook.py:561] name:layer4.2.bn2.weight count_params:512\u001b[0m\n",
      "\u001b[34m[2023-10-25 15:04:54.747 algo-1:55 INFO hook.py:561] name:layer4.2.bn2.bias count_params:512\u001b[0m\n",
      "\u001b[34m[2023-10-25 15:04:54.748 algo-1:55 INFO hook.py:561] name:layer4.2.conv3.weight count_params:1048576\u001b[0m\n",
      "\u001b[34m[2023-10-25 15:04:54.748 algo-1:55 INFO hook.py:561] name:layer4.2.bn3.weight count_params:2048\u001b[0m\n",
      "\u001b[34m[2023-10-25 15:04:54.748 algo-1:55 INFO hook.py:561] name:layer4.2.bn3.bias count_params:2048\u001b[0m\n",
      "\u001b[34m[2023-10-25 15:04:54.748 algo-1:55 INFO hook.py:561] name:fc.0.weight count_params:524288\u001b[0m\n",
      "\u001b[34m[2023-10-25 15:04:54.749 algo-1:55 INFO hook.py:561] name:fc.0.bias count_params:256\u001b[0m\n",
      "\u001b[34m[2023-10-25 15:04:54.749 algo-1:55 INFO hook.py:561] name:fc.2.weight count_params:32768\u001b[0m\n",
      "\u001b[34m[2023-10-25 15:04:54.749 algo-1:55 INFO hook.py:561] name:fc.2.bias count_params:128\u001b[0m\n",
      "\u001b[34m[2023-10-25 15:04:54.749 algo-1:55 INFO hook.py:561] name:fc.4.weight count_params:512\u001b[0m\n",
      "\u001b[34m[2023-10-25 15:04:54.750 algo-1:55 INFO hook.py:561] name:fc.4.bias count_params:4\u001b[0m\n",
      "\u001b[34m[2023-10-25 15:04:54.750 algo-1:55 INFO hook.py:563] Total Trainable Params: 24065988\u001b[0m\n",
      "\u001b[34m[2023-10-25 15:04:54.750 algo-1:55 INFO hook.py:563] Total Trainable Params: 0\u001b[0m\n",
      "\u001b[34m[2023-10-25 15:04:55.171 algo-1:55 INFO hook.py:427] Monitoring the collections: CrossEntropyLoss_output_0, losses, relu_input, gradients\u001b[0m\n",
      "\u001b[34m[2023-10-25 15:04:55.172 algo-1:55 INFO python_profiler.py:188] Dumping cProfile stats to /opt/ml/output/profiler/framework/pytorch/cprofile/55-algo-1/prestepzero-*-start-1698260693117310.2_train-0-stepstart-1698260695172668.5/python_stats.\u001b[0m\n",
      "\u001b[34m[2023-10-25 15:04:55.184 algo-1:55 WARNING hook.py:393] The detailed profiling using autograd profiler is not supported for torch version 1.11.0+cpu\u001b[0m\n",
      "\u001b[34m[2023-10-25 15:04:55.189 algo-1:55 INFO hook.py:491] Hook is writing from the hook with pid: 55\u001b[0m\n",
      "\u001b[34m[2023-10-25 15:05:04.635 algo-1:55 INFO python_profiler.py:188] Dumping cProfile stats to /opt/ml/output/profiler/framework/pytorch/cprofile/55-algo-1/train-0-stepstart-1698260695183297.0_train-0-forwardpassend-1698260704635019.8/python_stats.\u001b[0m\n",
      "\u001b[34m[2023-10-25 15:05:04.667 algo-1:55 INFO python_profiler.py:188] Dumping cProfile stats to /opt/ml/output/profiler/framework/pytorch/cprofile/55-algo-1/train-0-forwardpassend-1698260704637929.2_train-1-stepstart-1698260704667413.8/python_stats.\u001b[0m\n",
      "\u001b[34m[2023-10-25 15:05:04.669 algo-1:55 WARNING hook.py:393] The detailed profiling using autograd profiler is not supported for torch version 1.11.0+cpu\u001b[0m\n",
      "\u001b[34m[2023-10-25 15:05:04.673 algo-1:55 INFO python_profiler.py:188] Dumping cProfile stats to /opt/ml/output/profiler/framework/pytorch/cprofile/55-algo-1/train-1-stepstart-1698260704669027.5_train-1-forwardpassend-1698260704672891.5/python_stats.\u001b[0m\n",
      "\u001b[34m[2023-10-25 15:05:09.215 algo-1:55 INFO python_profiler.py:188] Dumping cProfile stats to /opt/ml/output/profiler/framework/pytorch/cprofile/55-algo-1/train-1-forwardpassend-1698260704674572.8_train-2-stepstart-1698260709214932.0/python_stats.\u001b[0m\n",
      "\u001b[34m[2023-10-25 15:05:09.217 algo-1:55 WARNING hook.py:393] The detailed profiling using autograd profiler is not supported for torch version 1.11.0+cpu\u001b[0m\n",
      "\u001b[34m[2023-10-25 15:05:11.597 algo-1:55 INFO python_profiler.py:188] Dumping cProfile stats to /opt/ml/output/profiler/framework/pytorch/cprofile/55-algo-1/train-2-stepstart-1698260709217005.2_train-2-forwardpassend-1698260711597368.2/python_stats.\u001b[0m\n",
      "\u001b[34m[2023-10-25 15:05:11.617 algo-1:55 INFO python_profiler.py:188] Dumping cProfile stats to /opt/ml/output/profiler/framework/pytorch/cprofile/55-algo-1/train-2-forwardpassend-1698260711599074.2_train-3-stepstart-1698260711617287.2/python_stats.\u001b[0m\n",
      "\u001b[34m[2023-10-25 15:05:11.620 algo-1:55 INFO python_profiler.py:188] Dumping cProfile stats to /opt/ml/output/profiler/framework/pytorch/cprofile/55-algo-1/train-3-stepstart-1698260711618871.8_train-3-forwardpassend-1698260711619626.8/python_stats.\u001b[0m\n",
      "\u001b[34m[2023-10-25 15:05:15.634 algo-1:55 INFO python_profiler.py:188] Dumping cProfile stats to /opt/ml/output/profiler/framework/pytorch/cprofile/55-algo-1/train-3-forwardpassend-1698260711620775.5_train-4-stepstart-1698260715634558.0/python_stats.\u001b[0m\n",
      "\u001b[34m[2023-10-25 15:05:17.899 algo-1:55 INFO python_profiler.py:188] Dumping cProfile stats to /opt/ml/output/profiler/framework/pytorch/cprofile/55-algo-1/train-4-stepstart-1698260715636689.0_train-4-forwardpassend-1698260717899026.8/python_stats.\u001b[0m\n",
      "\u001b[34m[2023-10-25 15:05:17.918 algo-1:55 INFO python_profiler.py:188] Dumping cProfile stats to /opt/ml/output/profiler/framework/pytorch/cprofile/55-algo-1/train-4-forwardpassend-1698260717900435.2_train-5-stepstart-1698260717918238.8/python_stats.\u001b[0m\n",
      "\u001b[34m[2023-10-25 15:05:17.920 algo-1:55 INFO python_profiler.py:188] Dumping cProfile stats to /opt/ml/output/profiler/framework/pytorch/cprofile/55-algo-1/train-5-stepstart-1698260717919438.8_train-5-forwardpassend-1698260717920028.8/python_stats.\u001b[0m\n",
      "\u001b[34m[2023-10-25 15:05:21.142 algo-1:55 INFO python_profiler.py:188] Dumping cProfile stats to /opt/ml/output/profiler/framework/pytorch/cprofile/55-algo-1/train-5-forwardpassend-1698260717921021.8_train-6-stepstart-1698260721142490.8/python_stats.\u001b[0m\n",
      "\u001b[34m[2023-10-25 15:05:23.391 algo-1:55 INFO python_profiler.py:188] Dumping cProfile stats to /opt/ml/output/profiler/framework/pytorch/cprofile/55-algo-1/train-6-stepstart-1698260721144510.8_train-6-forwardpassend-1698260723391510.2/python_stats.\u001b[0m\n",
      "\u001b[34m[2023-10-25 15:05:23.412 algo-1:55 INFO python_profiler.py:188] Dumping cProfile stats to /opt/ml/output/profiler/framework/pytorch/cprofile/55-algo-1/train-6-forwardpassend-1698260723392943.5_train-7-stepstart-1698260723412224.8/python_stats.\u001b[0m\n",
      "\u001b[34m[2023-10-25 15:05:23.414 algo-1:55 INFO python_profiler.py:188] Dumping cProfile stats to /opt/ml/output/profiler/framework/pytorch/cprofile/55-algo-1/train-7-stepstart-1698260723413678.8_train-7-forwardpassend-1698260723414317.0/python_stats.\u001b[0m\n",
      "\u001b[34m[2023-10-25 15:05:26.591 algo-1:55 INFO python_profiler.py:188] Dumping cProfile stats to /opt/ml/output/profiler/framework/pytorch/cprofile/55-algo-1/train-7-forwardpassend-1698260723415516.8_train-8-stepstart-1698260726591149.8/python_stats.\u001b[0m\n",
      "\u001b[34m[2023-10-25 15:05:28.394 algo-1:55 INFO python_profiler.py:188] Dumping cProfile stats to /opt/ml/output/profiler/framework/pytorch/cprofile/55-algo-1/train-8-stepstart-1698260726593244.2_train-8-forwardpassend-1698260728394371.8/python_stats.\u001b[0m\n",
      "\u001b[34m[2023-10-25 15:05:28.413 algo-1:55 INFO python_profiler.py:188] Dumping cProfile stats to /opt/ml/output/profiler/framework/pytorch/cprofile/55-algo-1/train-8-forwardpassend-1698260728395858.5_train-9-stepstart-1698260728413495.0/python_stats.\u001b[0m\n",
      "\u001b[34m[2023-10-25 15:05:28.415 algo-1:55 INFO python_profiler.py:188] Dumping cProfile stats to /opt/ml/output/profiler/framework/pytorch/cprofile/55-algo-1/train-9-stepstart-1698260728414894.5_train-9-forwardpassend-1698260728415496.0/python_stats.\u001b[0m\n",
      "\u001b[34m[2023-10-25 15:05:30.997 algo-1:55 INFO python_profiler.py:188] Dumping cProfile stats to /opt/ml/output/profiler/framework/pytorch/cprofile/55-algo-1/train-9-forwardpassend-1698260728416515.2_train-10-stepstart-1698260730996888.5/python_stats.\u001b[0m\n",
      "\u001b[34mValidation set: Average accuracy: 56.323060573857596%\u001b[0m\n",
      "\u001b[34mINFO:__main__:Validation set: Average accuracy: 56.323060573857596%\u001b[0m\n",
      "\u001b[34mValidation set: Average accuracy: 61.742826780021254%\u001b[0m\n",
      "\u001b[34mINFO:__main__:Validation set: Average accuracy: 61.742826780021254%\u001b[0m\n",
      "\u001b[34mValidation set: Average accuracy: 62.0616365568544%\u001b[0m\n",
      "\u001b[34mINFO:__main__:Validation set: Average accuracy: 62.0616365568544%\u001b[0m\n",
      "\u001b[34mValidation set: Average accuracy: 58.66099893730075%\u001b[0m\n",
      "\u001b[34mINFO:__main__:Validation set: Average accuracy: 58.66099893730075%\u001b[0m\n",
      "\u001b[34mValidation set: Average accuracy: 59.723698193411266%\u001b[0m\n",
      "\u001b[34mINFO:__main__:Validation set: Average accuracy: 59.723698193411266%\u001b[0m\n",
      "\u001b[34mTest set: Average loss: 0.014567827177270204, Average accuracy: 56.06531881804043%\u001b[0m\n",
      "\u001b[34mINFO:__main__:Test set: Average loss: 0.014567827177270204, Average accuracy: 56.06531881804043%\u001b[0m\n",
      "\u001b[34mSaving the model\u001b[0m\n",
      "\u001b[34mINFO:__main__:Saving the model\u001b[0m\n",
      "\u001b[34mModel saved\u001b[0m\n",
      "\u001b[34mINFO:__main__:Model saved\u001b[0m\n",
      "\u001b[34m2023-10-25 15:28:52,379 sagemaker-training-toolkit INFO     Waiting for the process to finish and give a return code.\u001b[0m\n",
      "\u001b[34m2023-10-25 15:28:52,380 sagemaker-training-toolkit INFO     Done waiting for a return code. Received 0 from exiting process.\u001b[0m\n",
      "\u001b[34m2023-10-25 15:28:52,380 sagemaker-training-toolkit INFO     Reporting training SUCCESS\u001b[0m\n",
      "\n",
      "2023-10-25 19:29:13 Uploading - Uploading generated training model\n",
      "2023-10-25 19:29:13 Completed - Training job completed\n",
      "Training seconds: 1578\n",
      "Billable seconds: 1578\n"
     ]
    }
   ],
   "source": [
    "estimator.fit({'train': inputs}, wait=True)"
   ]
  },
  {
   "cell_type": "code",
   "execution_count": 110,
   "id": "566e6502-07df-4ddf-a9ca-65d2a1f497ea",
   "metadata": {
    "tags": []
   },
   "outputs": [],
   "source": [
    "client = estimator.sagemaker_session.sagemaker_client\n",
    "description = client.describe_training_job(TrainingJobName=estimator.latest_training_job.name)"
   ]
  },
  {
   "cell_type": "code",
   "execution_count": 86,
   "id": "924b53d0-b2fb-45a1-8ee6-78408d19f45b",
   "metadata": {
    "tags": []
   },
   "outputs": [],
   "source": [
    "# trial = create_trial(estimator.latest_job_debugger_artifacts_path())"
   ]
  },
  {
   "cell_type": "code",
   "execution_count": 87,
   "id": "e3923f77-8f44-4188-81ba-2238aa076c7c",
   "metadata": {
    "tags": []
   },
   "outputs": [],
   "source": [
    "# trial = create_trial(s3_output_path)"
   ]
  },
  {
   "cell_type": "code",
   "execution_count": 221,
   "id": "35a2f3f9-d36f-4f84-9b14-395a45da5fed",
   "metadata": {
    "tags": []
   },
   "outputs": [
    {
     "name": "stdout",
     "output_type": "stream",
     "text": [
      "sagemaker.config INFO - Not applying SDK defaults from location: /etc/xdg/sagemaker/config.yaml\n",
      "sagemaker.config INFO - Not applying SDK defaults from location: /root/.config/sagemaker/config.yaml\n",
      "\n",
      "2023-10-25 19:29:29 Starting - Preparing the instances for training\n",
      "2023-10-25 19:29:29 Downloading - Downloading input data\n",
      "2023-10-25 19:29:29 Training - Training image download completed. Training in progress.\n",
      "2023-10-25 19:29:29 Uploading - Uploading generated training model\n",
      "2023-10-25 19:29:29 Completed - Training job completed\n"
     ]
    }
   ],
   "source": [
    "estimator = sagemaker.estimator.Estimator.attach('pytorch-training-2023-10-25-19-01-28-382')\n",
    "\n",
    "s3_output_path = estimator.latest_job_debugger_artifacts_path()\n",
    "rules_path = estimator.debugger_rules"
   ]
  },
  {
   "cell_type": "code",
   "execution_count": 222,
   "id": "99abc3d9-5d2a-478e-a8e3-6e45df242b0d",
   "metadata": {
    "tags": []
   },
   "outputs": [
    {
     "name": "stdout",
     "output_type": "stream",
     "text": [
      "[2023-10-26 12:44:04.121 pytorch-1-10-cpu-py38-ml-t3-medium-9c8fa3a7688fa232cbbe37185a11:409 INFO s3_trial.py:42] Loading trial  at path s3://mlub-dementia-demo/outputs/pytorch-training-2023-10-25-19-01-28-382/debug-output/\n"
     ]
    }
   ],
   "source": [
    "trial = create_trial(\"s3://mlub-dementia-demo/outputs/pytorch-training-2023-10-25-19-01-28-382/debug-output/\")"
   ]
  },
  {
   "cell_type": "code",
   "execution_count": 223,
   "id": "978f5fae-b11a-4870-89b0-8d35ae5f88d9",
   "metadata": {
    "tags": []
   },
   "outputs": [
    {
     "data": {
      "text/plain": [
       "<bound method Trial.tensor_names of <smdebug.trials.s3_trial.S3Trial object at 0x7f133d9ea370>:(\n",
       "    name=,\n",
       "    path=s3://mlub-dementia-demo/outputs/pytorch-training-2023-10-25-19-01-28-382/debug-output/,\n",
       "    steps=[0, 132, 133, 135, 137, 139, 141, 143, 145, 147, 149, 151, 153, 155, 157, 159, 161, 295, 297, 299, 301, 303, 305, 307, 309, 311, 313, 315, 317, 319, 321, 323, 457, 459, 461, 463, 465, 467, 469, 471, 473, 475, 477, 479, 481, 483, 485, 590, 619, 621, 623, 625, 627, 629, 631, 633, 635, 637, 639, 641, 643, 645, 647, 781, 783, 785, 787, 789, 791, 793, 795, 797, 799, 801, 803, 805, 807, 809, 811, 813, 815, 817, 819, 821, 823, 825, 827, 829, 831, 833, 835, 837, 839, 841, 843, 845, 847, 849, 851],\n",
       "    collections=['weights', 'losses', 'default', 'all', 'biases', 'gradients', 'CrossEntropyLoss_output_0', 'relu_input'],\n",
       "    tensor_names=['CrossEntropyLoss_output_0', 'layer1.0.relu_input_0', 'layer1.0.relu_input_1', 'layer1.0.relu_input_2', 'layer1.1.relu_input_0', 'layer1.1.relu_input_1', 'layer1.1.relu_input_2', 'layer1.2.relu_input_0', 'layer1.2.relu_input_1', 'layer1.2.relu_input_2', 'layer2.0.relu_input_0', 'layer2.0.relu_input_1', 'layer2.0.relu_input_2', 'layer2.1.relu_input_0', 'layer2.1.relu_input_1', 'layer2.1.relu_input_2', 'layer2.2.relu_input_0', 'layer2.2.relu_input_1', 'layer2.2.relu_input_2', 'layer2.3.relu_input_0', 'layer2.3.relu_input_1', 'layer2.3.relu_input_2', 'layer3.0.relu_input_0', 'layer3.0.relu_input_1', 'layer3.0.relu_input_2', 'layer3.1.relu_input_0', 'layer3.1.relu_input_1', 'layer3.1.relu_input_2', 'layer3.2.relu_input_0', 'layer3.2.relu_input_1', 'layer3.2.relu_input_2', 'layer3.3.relu_input_0', 'layer3.3.relu_input_1', 'layer3.3.relu_input_2', 'layer3.4.relu_input_0', 'layer3.4.relu_input_1', 'layer3.4.relu_input_2', 'layer3.5.relu_input_0', 'layer3.5.relu_input_1', 'layer3.5.relu_input_2', 'layer4.0.relu_input_0', 'layer4.0.relu_input_1', 'layer4.0.relu_input_2', 'layer4.1.relu_input_0', 'layer4.1.relu_input_1', 'layer4.1.relu_input_2', 'layer4.2.relu_input_0', 'layer4.2.relu_input_1', 'layer4.2.relu_input_2', 'relu_input_0'],\n",
       ")>"
      ]
     },
     "execution_count": 223,
     "metadata": {},
     "output_type": "execute_result"
    }
   ],
   "source": [
    "trial.tensor_names"
   ]
  },
  {
   "cell_type": "code",
   "execution_count": 224,
   "id": "c54c470d-8a0a-4b96-b539-5b1779fdc970",
   "metadata": {
    "tags": []
   },
   "outputs": [
    {
     "name": "stdout",
     "output_type": "stream",
     "text": [
      "loaded TRAIN data\n",
      "loaded EVAL data\n",
      "completed TRAIN plot\n",
      "completed EVAL plot\n"
     ]
    },
    {
     "data": {
      "image/png": "[encoded data removed]",
      "text/plain": [
       "<Figure size 720x504 with 1 Axes>"
      ]
     },
     "metadata": {
      "needs_background": "light"
     },
     "output_type": "display_data"
    }
   ],
   "source": [
    "def get_data(trial, tname, mode):\n",
    "    tensor = trial.tensor(tname)\n",
    "    steps = tensor.steps(mode=mode)\n",
    "    vals = []\n",
    "    for s in steps:\n",
    "        vals.append(tensor.value(s, mode=mode))\n",
    "    return steps, vals\n",
    "\n",
    "def plot_tensor(trial, tensor_name):\n",
    "\n",
    "    steps_train, vals_train = get_data(trial, tensor_name, mode=ModeKeys.TRAIN)\n",
    "    print(\"loaded TRAIN data\")\n",
    "    steps_eval, vals_eval = get_data(trial, tensor_name, mode=ModeKeys.EVAL)\n",
    "    print(\"loaded EVAL data\")\n",
    "\n",
    "    fig = plt.figure(figsize=(10, 7))\n",
    "    host = host_subplot(111)\n",
    "\n",
    "    par = host.twiny()\n",
    "\n",
    "    host.set_xlabel(\"Steps (TRAIN)\")\n",
    "    par.set_xlabel(\"Steps (EVAL)\")\n",
    "    host.set_ylabel(tensor_name)\n",
    "\n",
    "    (p1,) = host.plot(steps_train, vals_train, label=tensor_name)\n",
    "    print(\"completed TRAIN plot\")\n",
    "    (p2,) = par.plot(steps_eval, vals_eval, label=\"val_\" + tensor_name)\n",
    "    print(\"completed EVAL plot\")\n",
    "    leg = plt.legend()\n",
    "\n",
    "    host.xaxis.get_label().set_color(p1.get_color())\n",
    "    leg.texts[0].set_color(p1.get_color())\n",
    "\n",
    "    par.xaxis.get_label().set_color(p2.get_color())\n",
    "    leg.texts[1].set_color(p2.get_color())\n",
    "\n",
    "    plt.ylabel(tensor_name)\n",
    "\n",
    "    plt.show()\n",
    "\n",
    "plot_tensor(trial, \"CrossEntropyLoss_output_0\")"
   ]
  },
  {
   "cell_type": "markdown",
   "id": "9d5ee9d8-e3d9-43f6-bf56-e43e63653184",
   "metadata": {},
   "source": [
    "The end of the notebook"
   ]
  }
 ],
 "metadata": {
  "availableInstances": [
   {
    "_defaultOrder": 0,
    "_isFastLaunch": true,
    "category": "General purpose",
    "gpuNum": 0,
    "hideHardwareSpecs": false,
    "memoryGiB": 4,
    "name": "ml.t3.medium",
    "vcpuNum": 2
   },
   {
    "_defaultOrder": 1,
    "_isFastLaunch": false,
    "category": "General purpose",
    "gpuNum": 0,
    "hideHardwareSpecs": false,
    "memoryGiB": 8,
    "name": "ml.t3.large",
    "vcpuNum": 2
   },
   {
    "_defaultOrder": 2,
    "_isFastLaunch": false,
    "category": "General purpose",
    "gpuNum": 0,
    "hideHardwareSpecs": false,
    "memoryGiB": 16,
    "name": "ml.t3.xlarge",
    "vcpuNum": 4
   },
   {
    "_defaultOrder": 3,
    "_isFastLaunch": false,
    "category": "General purpose",
    "gpuNum": 0,
    "hideHardwareSpecs": false,
    "memoryGiB": 32,
    "name": "ml.t3.2xlarge",
    "vcpuNum": 8
   },
   {
    "_defaultOrder": 4,
    "_isFastLaunch": true,
    "category": "General purpose",
    "gpuNum": 0,
    "hideHardwareSpecs": false,
    "memoryGiB": 8,
    "name": "ml.m5.large",
    "vcpuNum": 2
   },
   {
    "_defaultOrder": 5,
    "_isFastLaunch": false,
    "category": "General purpose",
    "gpuNum": 0,
    "hideHardwareSpecs": false,
    "memoryGiB": 16,
    "name": "ml.m5.xlarge",
    "vcpuNum": 4
   },
   {
    "_defaultOrder": 6,
    "_isFastLaunch": false,
    "category": "General purpose",
    "gpuNum": 0,
    "hideHardwareSpecs": false,
    "memoryGiB": 32,
    "name": "ml.m5.2xlarge",
    "vcpuNum": 8
   },
   {
    "_defaultOrder": 7,
    "_isFastLaunch": false,
    "category": "General purpose",
    "gpuNum": 0,
    "hideHardwareSpecs": false,
    "memoryGiB": 64,
    "name": "ml.m5.4xlarge",
    "vcpuNum": 16
   },
   {
    "_defaultOrder": 8,
    "_isFastLaunch": false,
    "category": "General purpose",
    "gpuNum": 0,
    "hideHardwareSpecs": false,
    "memoryGiB": 128,
    "name": "ml.m5.8xlarge",
    "vcpuNum": 32
   },
   {
    "_defaultOrder": 9,
    "_isFastLaunch": false,
    "category": "General purpose",
    "gpuNum": 0,
    "hideHardwareSpecs": false,
    "memoryGiB": 192,
    "name": "ml.m5.12xlarge",
    "vcpuNum": 48
   },
   {
    "_defaultOrder": 10,
    "_isFastLaunch": false,
    "category": "General purpose",
    "gpuNum": 0,
    "hideHardwareSpecs": false,
    "memoryGiB": 256,
    "name": "ml.m5.16xlarge",
    "vcpuNum": 64
   },
   {
    "_defaultOrder": 11,
    "_isFastLaunch": false,
    "category": "General purpose",
    "gpuNum": 0,
    "hideHardwareSpecs": false,
    "memoryGiB": 384,
    "name": "ml.m5.24xlarge",
    "vcpuNum": 96
   },
   {
    "_defaultOrder": 12,
    "_isFastLaunch": false,
    "category": "General purpose",
    "gpuNum": 0,
    "hideHardwareSpecs": false,
    "memoryGiB": 8,
    "name": "ml.m5d.large",
    "vcpuNum": 2
   },
   {
    "_defaultOrder": 13,
    "_isFastLaunch": false,
    "category": "General purpose",
    "gpuNum": 0,
    "hideHardwareSpecs": false,
    "memoryGiB": 16,
    "name": "ml.m5d.xlarge",
    "vcpuNum": 4
   },
   {
    "_defaultOrder": 14,
    "_isFastLaunch": false,
    "category": "General purpose",
    "gpuNum": 0,
    "hideHardwareSpecs": false,
    "memoryGiB": 32,
    "name": "ml.m5d.2xlarge",
    "vcpuNum": 8
   },
   {
    "_defaultOrder": 15,
    "_isFastLaunch": false,
    "category": "General purpose",
    "gpuNum": 0,
    "hideHardwareSpecs": false,
    "memoryGiB": 64,
    "name": "ml.m5d.4xlarge",
    "vcpuNum": 16
   },
   {
    "_defaultOrder": 16,
    "_isFastLaunch": false,
    "category": "General purpose",
    "gpuNum": 0,
    "hideHardwareSpecs": false,
    "memoryGiB": 128,
    "name": "ml.m5d.8xlarge",
    "vcpuNum": 32
   },
   {
    "_defaultOrder": 17,
    "_isFastLaunch": false,
    "category": "General purpose",
    "gpuNum": 0,
    "hideHardwareSpecs": false,
    "memoryGiB": 192,
    "name": "ml.m5d.12xlarge",
    "vcpuNum": 48
   },
   {
    "_defaultOrder": 18,
    "_isFastLaunch": false,
    "category": "General purpose",
    "gpuNum": 0,
    "hideHardwareSpecs": false,
    "memoryGiB": 256,
    "name": "ml.m5d.16xlarge",
    "vcpuNum": 64
   },
   {
    "_defaultOrder": 19,
    "_isFastLaunch": false,
    "category": "General purpose",
    "gpuNum": 0,
    "hideHardwareSpecs": false,
    "memoryGiB": 384,
    "name": "ml.m5d.24xlarge",
    "vcpuNum": 96
   },
   {
    "_defaultOrder": 20,
    "_isFastLaunch": false,
    "category": "General purpose",
    "gpuNum": 0,
    "hideHardwareSpecs": true,
    "memoryGiB": 0,
    "name": "ml.geospatial.interactive",
    "supportedImageNames": [
     "sagemaker-geospatial-v1-0"
    ],
    "vcpuNum": 0
   },
   {
    "_defaultOrder": 21,
    "_isFastLaunch": true,
    "category": "Compute optimized",
    "gpuNum": 0,
    "hideHardwareSpecs": false,
    "memoryGiB": 4,
    "name": "ml.c5.large",
    "vcpuNum": 2
   },
   {
    "_defaultOrder": 22,
    "_isFastLaunch": false,
    "category": "Compute optimized",
    "gpuNum": 0,
    "hideHardwareSpecs": false,
    "memoryGiB": 8,
    "name": "ml.c5.xlarge",
    "vcpuNum": 4
   },
   {
    "_defaultOrder": 23,
    "_isFastLaunch": false,
    "category": "Compute optimized",
    "gpuNum": 0,
    "hideHardwareSpecs": false,
    "memoryGiB": 16,
    "name": "ml.c5.2xlarge",
    "vcpuNum": 8
   },
   {
    "_defaultOrder": 24,
    "_isFastLaunch": false,
    "category": "Compute optimized",
    "gpuNum": 0,
    "hideHardwareSpecs": false,
    "memoryGiB": 32,
    "name": "ml.c5.4xlarge",
    "vcpuNum": 16
   },
   {
    "_defaultOrder": 25,
    "_isFastLaunch": false,
    "category": "Compute optimized",
    "gpuNum": 0,
    "hideHardwareSpecs": false,
    "memoryGiB": 72,
    "name": "ml.c5.9xlarge",
    "vcpuNum": 36
   },
   {
    "_defaultOrder": 26,
    "_isFastLaunch": false,
    "category": "Compute optimized",
    "gpuNum": 0,
    "hideHardwareSpecs": false,
    "memoryGiB": 96,
    "name": "ml.c5.12xlarge",
    "vcpuNum": 48
   },
   {
    "_defaultOrder": 27,
    "_isFastLaunch": false,
    "category": "Compute optimized",
    "gpuNum": 0,
    "hideHardwareSpecs": false,
    "memoryGiB": 144,
    "name": "ml.c5.18xlarge",
    "vcpuNum": 72
   },
   {
    "_defaultOrder": 28,
    "_isFastLaunch": false,
    "category": "Compute optimized",
    "gpuNum": 0,
    "hideHardwareSpecs": false,
    "memoryGiB": 192,
    "name": "ml.c5.24xlarge",
    "vcpuNum": 96
   },
   {
    "_defaultOrder": 29,
    "_isFastLaunch": true,
    "category": "Accelerated computing",
    "gpuNum": 1,
    "hideHardwareSpecs": false,
    "memoryGiB": 16,
    "name": "ml.g4dn.xlarge",
    "vcpuNum": 4
   },
   {
    "_defaultOrder": 30,
    "_isFastLaunch": false,
    "category": "Accelerated computing",
    "gpuNum": 1,
    "hideHardwareSpecs": false,
    "memoryGiB": 32,
    "name": "ml.g4dn.2xlarge",
    "vcpuNum": 8
   },
   {
    "_defaultOrder": 31,
    "_isFastLaunch": false,
    "category": "Accelerated computing",
    "gpuNum": 1,
    "hideHardwareSpecs": false,
    "memoryGiB": 64,
    "name": "ml.g4dn.4xlarge",
    "vcpuNum": 16
   },
   {
    "_defaultOrder": 32,
    "_isFastLaunch": false,
    "category": "Accelerated computing",
    "gpuNum": 1,
    "hideHardwareSpecs": false,
    "memoryGiB": 128,
    "name": "ml.g4dn.8xlarge",
    "vcpuNum": 32
   },
   {
    "_defaultOrder": 33,
    "_isFastLaunch": false,
    "category": "Accelerated computing",
    "gpuNum": 4,
    "hideHardwareSpecs": false,
    "memoryGiB": 192,
    "name": "ml.g4dn.12xlarge",
    "vcpuNum": 48
   },
   {
    "_defaultOrder": 34,
    "_isFastLaunch": false,
    "category": "Accelerated computing",
    "gpuNum": 1,
    "hideHardwareSpecs": false,
    "memoryGiB": 256,
    "name": "ml.g4dn.16xlarge",
    "vcpuNum": 64
   },
   {
    "_defaultOrder": 35,
    "_isFastLaunch": false,
    "category": "Accelerated computing",
    "gpuNum": 1,
    "hideHardwareSpecs": false,
    "memoryGiB": 61,
    "name": "ml.p3.2xlarge",
    "vcpuNum": 8
   },
   {
    "_defaultOrder": 36,
    "_isFastLaunch": false,
    "category": "Accelerated computing",
    "gpuNum": 4,
    "hideHardwareSpecs": false,
    "memoryGiB": 244,
    "name": "ml.p3.8xlarge",
    "vcpuNum": 32
   },
   {
    "_defaultOrder": 37,
    "_isFastLaunch": false,
    "category": "Accelerated computing",
    "gpuNum": 8,
    "hideHardwareSpecs": false,
    "memoryGiB": 488,
    "name": "ml.p3.16xlarge",
    "vcpuNum": 64
   },
   {
    "_defaultOrder": 38,
    "_isFastLaunch": false,
    "category": "Accelerated computing",
    "gpuNum": 8,
    "hideHardwareSpecs": false,
    "memoryGiB": 768,
    "name": "ml.p3dn.24xlarge",
    "vcpuNum": 96
   },
   {
    "_defaultOrder": 39,
    "_isFastLaunch": false,
    "category": "Memory Optimized",
    "gpuNum": 0,
    "hideHardwareSpecs": false,
    "memoryGiB": 16,
    "name": "ml.r5.large",
    "vcpuNum": 2
   },
   {
    "_defaultOrder": 40,
    "_isFastLaunch": false,
    "category": "Memory Optimized",
    "gpuNum": 0,
    "hideHardwareSpecs": false,
    "memoryGiB": 32,
    "name": "ml.r5.xlarge",
    "vcpuNum": 4
   },
   {
    "_defaultOrder": 41,
    "_isFastLaunch": false,
    "category": "Memory Optimized",
    "gpuNum": 0,
    "hideHardwareSpecs": false,
    "memoryGiB": 64,
    "name": "ml.r5.2xlarge",
    "vcpuNum": 8
   },
   {
    "_defaultOrder": 42,
    "_isFastLaunch": false,
    "category": "Memory Optimized",
    "gpuNum": 0,
    "hideHardwareSpecs": false,
    "memoryGiB": 128,
    "name": "ml.r5.4xlarge",
    "vcpuNum": 16
   },
   {
    "_defaultOrder": 43,
    "_isFastLaunch": false,
    "category": "Memory Optimized",
    "gpuNum": 0,
    "hideHardwareSpecs": false,
    "memoryGiB": 256,
    "name": "ml.r5.8xlarge",
    "vcpuNum": 32
   },
   {
    "_defaultOrder": 44,
    "_isFastLaunch": false,
    "category": "Memory Optimized",
    "gpuNum": 0,
    "hideHardwareSpecs": false,
    "memoryGiB": 384,
    "name": "ml.r5.12xlarge",
    "vcpuNum": 48
   },
   {
    "_defaultOrder": 45,
    "_isFastLaunch": false,
    "category": "Memory Optimized",
    "gpuNum": 0,
    "hideHardwareSpecs": false,
    "memoryGiB": 512,
    "name": "ml.r5.16xlarge",
    "vcpuNum": 64
   },
   {
    "_defaultOrder": 46,
    "_isFastLaunch": false,
    "category": "Memory Optimized",
    "gpuNum": 0,
    "hideHardwareSpecs": false,
    "memoryGiB": 768,
    "name": "ml.r5.24xlarge",
    "vcpuNum": 96
   },
   {
    "_defaultOrder": 47,
    "_isFastLaunch": false,
    "category": "Accelerated computing",
    "gpuNum": 1,
    "hideHardwareSpecs": false,
    "memoryGiB": 16,
    "name": "ml.g5.xlarge",
    "vcpuNum": 4
   },
   {
    "_defaultOrder": 48,
    "_isFastLaunch": false,
    "category": "Accelerated computing",
    "gpuNum": 1,
    "hideHardwareSpecs": false,
    "memoryGiB": 32,
    "name": "ml.g5.2xlarge",
    "vcpuNum": 8
   },
   {
    "_defaultOrder": 49,
    "_isFastLaunch": false,
    "category": "Accelerated computing",
    "gpuNum": 1,
    "hideHardwareSpecs": false,
    "memoryGiB": 64,
    "name": "ml.g5.4xlarge",
    "vcpuNum": 16
   },
   {
    "_defaultOrder": 50,
    "_isFastLaunch": false,
    "category": "Accelerated computing",
    "gpuNum": 1,
    "hideHardwareSpecs": false,
    "memoryGiB": 128,
    "name": "ml.g5.8xlarge",
    "vcpuNum": 32
   },
   {
    "_defaultOrder": 51,
    "_isFastLaunch": false,
    "category": "Accelerated computing",
    "gpuNum": 1,
    "hideHardwareSpecs": false,
    "memoryGiB": 256,
    "name": "ml.g5.16xlarge",
    "vcpuNum": 64
   },
   {
    "_defaultOrder": 52,
    "_isFastLaunch": false,
    "category": "Accelerated computing",
    "gpuNum": 4,
    "hideHardwareSpecs": false,
    "memoryGiB": 192,
    "name": "ml.g5.12xlarge",
    "vcpuNum": 48
   },
   {
    "_defaultOrder": 53,
    "_isFastLaunch": false,
    "category": "Accelerated computing",
    "gpuNum": 4,
    "hideHardwareSpecs": false,
    "memoryGiB": 384,
    "name": "ml.g5.24xlarge",
    "vcpuNum": 96
   },
   {
    "_defaultOrder": 54,
    "_isFastLaunch": false,
    "category": "Accelerated computing",
    "gpuNum": 8,
    "hideHardwareSpecs": false,
    "memoryGiB": 768,
    "name": "ml.g5.48xlarge",
    "vcpuNum": 192
   },
   {
    "_defaultOrder": 55,
    "_isFastLaunch": false,
    "category": "Accelerated computing",
    "gpuNum": 8,
    "hideHardwareSpecs": false,
    "memoryGiB": 1152,
    "name": "ml.p4d.24xlarge",
    "vcpuNum": 96
   },
   {
    "_defaultOrder": 56,
    "_isFastLaunch": false,
    "category": "Accelerated computing",
    "gpuNum": 8,
    "hideHardwareSpecs": false,
    "memoryGiB": 1152,
    "name": "ml.p4de.24xlarge",
    "vcpuNum": 96
   }
  ],
  "instance_type": "ml.t3.medium",
  "kernelspec": {
   "display_name": "Python 3 (PyTorch 1.10 Python 3.8 CPU Optimized)",
   "language": "python",
   "name": "python3__SAGEMAKER_INTERNAL__arn:aws:sagemaker:us-east-1:081325390199:image/pytorch-1.10-cpu-py38"
  },
  "language_info": {
   "codemirror_mode": {
    "name": "ipython",
    "version": 3
   },
   "file_extension": ".py",
   "mimetype": "text/x-python",
   "name": "python",
   "nbconvert_exporter": "python",
   "pygments_lexer": "ipython3",
   "version": "3.8.10"
  }
 },
 "nbformat": 4,
 "nbformat_minor": 5
}
